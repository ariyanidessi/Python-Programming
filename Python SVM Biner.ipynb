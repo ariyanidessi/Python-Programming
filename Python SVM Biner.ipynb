{
 "cells": [
  {
   "cell_type": "markdown",
   "id": "fc619451",
   "metadata": {},
   "source": [
    "# SVM SENTIMEN"
   ]
  },
  {
   "cell_type": "code",
   "execution_count": 1,
   "id": "95b68881",
   "metadata": {},
   "outputs": [
    {
     "data": {
      "text/html": [
       "<div>\n",
       "<style scoped>\n",
       "    .dataframe tbody tr th:only-of-type {\n",
       "        vertical-align: middle;\n",
       "    }\n",
       "\n",
       "    .dataframe tbody tr th {\n",
       "        vertical-align: top;\n",
       "    }\n",
       "\n",
       "    .dataframe thead th {\n",
       "        text-align: right;\n",
       "    }\n",
       "</style>\n",
       "<table border=\"1\" class=\"dataframe\">\n",
       "  <thead>\n",
       "    <tr style=\"text-align: right;\">\n",
       "      <th></th>\n",
       "      <th>opini</th>\n",
       "      <th>label</th>\n",
       "    </tr>\n",
       "  </thead>\n",
       "  <tbody>\n",
       "    <tr>\n",
       "      <th>0</th>\n",
       "      <td>berita cepat terkini</td>\n",
       "      <td>positif</td>\n",
       "    </tr>\n",
       "    <tr>\n",
       "      <th>1</th>\n",
       "      <td>tarik berita updet</td>\n",
       "      <td>positif</td>\n",
       "    </tr>\n",
       "    <tr>\n",
       "      <th>2</th>\n",
       "      <td>berita bagus sesuai jadi</td>\n",
       "      <td>positif</td>\n",
       "    </tr>\n",
       "    <tr>\n",
       "      <th>3</th>\n",
       "      <td>aplikasi henti</td>\n",
       "      <td>negatif</td>\n",
       "    </tr>\n",
       "    <tr>\n",
       "      <th>4</th>\n",
       "      <td>berita terkini mantap percaya maju cnn indones...</td>\n",
       "      <td>positif</td>\n",
       "    </tr>\n",
       "    <tr>\n",
       "      <th>...</th>\n",
       "      <td>...</td>\n",
       "      <td>...</td>\n",
       "    </tr>\n",
       "    <tr>\n",
       "      <th>2495</th>\n",
       "      <td>berita renyah imbang hibur</td>\n",
       "      <td>positif</td>\n",
       "    </tr>\n",
       "    <tr>\n",
       "      <th>2496</th>\n",
       "      <td>berita sehat tidak tolong ada berita kesehatanya</td>\n",
       "      <td>positif</td>\n",
       "    </tr>\n",
       "    <tr>\n",
       "      <th>2497</th>\n",
       "      <td>berita hangat indonesia</td>\n",
       "      <td>positif</td>\n",
       "    </tr>\n",
       "    <tr>\n",
       "      <th>2498</th>\n",
       "      <td>tema tarik tolong tingkat</td>\n",
       "      <td>positif</td>\n",
       "    </tr>\n",
       "    <tr>\n",
       "      <th>2499</th>\n",
       "      <td>berita buruk tidak netral</td>\n",
       "      <td>negatif</td>\n",
       "    </tr>\n",
       "  </tbody>\n",
       "</table>\n",
       "<p>2500 rows × 2 columns</p>\n",
       "</div>"
      ],
      "text/plain": [
       "                                                  opini    label\n",
       "0                                  berita cepat terkini  positif\n",
       "1                                    tarik berita updet  positif\n",
       "2                              berita bagus sesuai jadi  positif\n",
       "3                                        aplikasi henti  negatif\n",
       "4     berita terkini mantap percaya maju cnn indones...  positif\n",
       "...                                                 ...      ...\n",
       "2495                         berita renyah imbang hibur  positif\n",
       "2496   berita sehat tidak tolong ada berita kesehatanya  positif\n",
       "2497                            berita hangat indonesia  positif\n",
       "2498                          tema tarik tolong tingkat  positif\n",
       "2499                          berita buruk tidak netral  negatif\n",
       "\n",
       "[2500 rows x 2 columns]"
      ]
     },
     "execution_count": 1,
     "metadata": {},
     "output_type": "execute_result"
    }
   ],
   "source": [
    "import pandas as pd\n",
    "import numpy as np\n",
    "df = pd.read_excel(r\"C:\\Users\\user\\Documents\\cnn-sentimen.xlsx\")\n",
    "df #cetak isi dataset"
   ]
  },
  {
   "cell_type": "code",
   "execution_count": 2,
   "id": "0bedeb8f",
   "metadata": {},
   "outputs": [
    {
     "data": {
      "text/html": [
       "<div>\n",
       "<style scoped>\n",
       "    .dataframe tbody tr th:only-of-type {\n",
       "        vertical-align: middle;\n",
       "    }\n",
       "\n",
       "    .dataframe tbody tr th {\n",
       "        vertical-align: top;\n",
       "    }\n",
       "\n",
       "    .dataframe thead th {\n",
       "        text-align: right;\n",
       "    }\n",
       "</style>\n",
       "<table border=\"1\" class=\"dataframe\">\n",
       "  <thead>\n",
       "    <tr style=\"text-align: right;\">\n",
       "      <th></th>\n",
       "      <th>opini</th>\n",
       "      <th>label</th>\n",
       "    </tr>\n",
       "  </thead>\n",
       "  <tbody>\n",
       "    <tr>\n",
       "      <th>0</th>\n",
       "      <td>False</td>\n",
       "      <td>False</td>\n",
       "    </tr>\n",
       "    <tr>\n",
       "      <th>1</th>\n",
       "      <td>False</td>\n",
       "      <td>False</td>\n",
       "    </tr>\n",
       "    <tr>\n",
       "      <th>2</th>\n",
       "      <td>False</td>\n",
       "      <td>False</td>\n",
       "    </tr>\n",
       "    <tr>\n",
       "      <th>3</th>\n",
       "      <td>False</td>\n",
       "      <td>False</td>\n",
       "    </tr>\n",
       "    <tr>\n",
       "      <th>4</th>\n",
       "      <td>False</td>\n",
       "      <td>False</td>\n",
       "    </tr>\n",
       "    <tr>\n",
       "      <th>...</th>\n",
       "      <td>...</td>\n",
       "      <td>...</td>\n",
       "    </tr>\n",
       "    <tr>\n",
       "      <th>2495</th>\n",
       "      <td>False</td>\n",
       "      <td>False</td>\n",
       "    </tr>\n",
       "    <tr>\n",
       "      <th>2496</th>\n",
       "      <td>False</td>\n",
       "      <td>False</td>\n",
       "    </tr>\n",
       "    <tr>\n",
       "      <th>2497</th>\n",
       "      <td>False</td>\n",
       "      <td>False</td>\n",
       "    </tr>\n",
       "    <tr>\n",
       "      <th>2498</th>\n",
       "      <td>False</td>\n",
       "      <td>False</td>\n",
       "    </tr>\n",
       "    <tr>\n",
       "      <th>2499</th>\n",
       "      <td>False</td>\n",
       "      <td>False</td>\n",
       "    </tr>\n",
       "  </tbody>\n",
       "</table>\n",
       "<p>2500 rows × 2 columns</p>\n",
       "</div>"
      ],
      "text/plain": [
       "      opini  label\n",
       "0     False  False\n",
       "1     False  False\n",
       "2     False  False\n",
       "3     False  False\n",
       "4     False  False\n",
       "...     ...    ...\n",
       "2495  False  False\n",
       "2496  False  False\n",
       "2497  False  False\n",
       "2498  False  False\n",
       "2499  False  False\n",
       "\n",
       "[2500 rows x 2 columns]"
      ]
     },
     "execution_count": 2,
     "metadata": {},
     "output_type": "execute_result"
    }
   ],
   "source": [
    "df.isnull() #ngcek apa ada yg nan"
   ]
  },
  {
   "cell_type": "code",
   "execution_count": 3,
   "id": "88444c20",
   "metadata": {},
   "outputs": [
    {
     "data": {
      "text/plain": [
       "positif    2089\n",
       "negatif     411\n",
       "Name: label, dtype: int64"
      ]
     },
     "execution_count": 3,
     "metadata": {},
     "output_type": "execute_result"
    }
   ],
   "source": [
    "df['label'].value_counts() #ngitung banyakny masing\" sentimen"
   ]
  },
  {
   "cell_type": "code",
   "execution_count": 4,
   "id": "b27f36af",
   "metadata": {},
   "outputs": [],
   "source": [
    "# Pembagian dataset \n",
    "import pandas as pd\n",
    "from sklearn import model_selection\n",
    "from sklearn.model_selection import train_test_split\n",
    "# membagi dataset ke training dan testing\n",
    "train_X, test_X, train_Y, test_Y = model_selection.train_test_split(df['opini'],df['label'],test_size = 0.2, random_state = 0)"
   ]
  },
  {
   "cell_type": "code",
   "execution_count": 5,
   "id": "e44cbe83",
   "metadata": {},
   "outputs": [],
   "source": [
    "df_train = pd.DataFrame()\n",
    "df_train['opini'] = train_X #sebagai training ulasan\n",
    "df_train['label'] = train_Y#sebagai training label\n",
    "\n",
    "df_test = pd.DataFrame()\n",
    "df_test['opini'] = test_X#sebagai testing ulasan\n",
    "df_test['label'] = test_Y#sebagai testing label"
   ]
  },
  {
   "cell_type": "code",
   "execution_count": 6,
   "id": "a9b52485",
   "metadata": {},
   "outputs": [
    {
     "data": {
      "text/html": [
       "<div>\n",
       "<style scoped>\n",
       "    .dataframe tbody tr th:only-of-type {\n",
       "        vertical-align: middle;\n",
       "    }\n",
       "\n",
       "    .dataframe tbody tr th {\n",
       "        vertical-align: top;\n",
       "    }\n",
       "\n",
       "    .dataframe thead th {\n",
       "        text-align: right;\n",
       "    }\n",
       "</style>\n",
       "<table border=\"1\" class=\"dataframe\">\n",
       "  <thead>\n",
       "    <tr style=\"text-align: right;\">\n",
       "      <th></th>\n",
       "      <th>opini</th>\n",
       "      <th>label</th>\n",
       "    </tr>\n",
       "  </thead>\n",
       "  <tbody>\n",
       "    <tr>\n",
       "      <th>286</th>\n",
       "      <td>berita mantap cnn</td>\n",
       "      <td>positif</td>\n",
       "    </tr>\n",
       "    <tr>\n",
       "      <th>1495</th>\n",
       "      <td>nyesel install beda cnn bayang sblmnya berita ...</td>\n",
       "      <td>positif</td>\n",
       "    </tr>\n",
       "    <tr>\n",
       "      <th>40</th>\n",
       "      <td>berita agama tarik suka</td>\n",
       "      <td>positif</td>\n",
       "    </tr>\n",
       "    <tr>\n",
       "      <th>1106</th>\n",
       "      <td>berita tidak netral</td>\n",
       "      <td>negatif</td>\n",
       "    </tr>\n",
       "    <tr>\n",
       "      <th>1379</th>\n",
       "      <td>berita aktual mantap</td>\n",
       "      <td>positif</td>\n",
       "    </tr>\n",
       "    <tr>\n",
       "      <th>...</th>\n",
       "      <td>...</td>\n",
       "      <td>...</td>\n",
       "    </tr>\n",
       "    <tr>\n",
       "      <th>1033</th>\n",
       "      <td>nyaman baca berita</td>\n",
       "      <td>positif</td>\n",
       "    </tr>\n",
       "    <tr>\n",
       "      <th>1731</th>\n",
       "      <td>baik berita</td>\n",
       "      <td>positif</td>\n",
       "    </tr>\n",
       "    <tr>\n",
       "      <th>763</th>\n",
       "      <td>bagus berita</td>\n",
       "      <td>positif</td>\n",
       "    </tr>\n",
       "    <tr>\n",
       "      <th>835</th>\n",
       "      <td>berita terkini</td>\n",
       "      <td>positif</td>\n",
       "    </tr>\n",
       "    <tr>\n",
       "      <th>1653</th>\n",
       "      <td>mesti hrs hapus aplikasi aplikasi data</td>\n",
       "      <td>positif</td>\n",
       "    </tr>\n",
       "  </tbody>\n",
       "</table>\n",
       "<p>2000 rows × 2 columns</p>\n",
       "</div>"
      ],
      "text/plain": [
       "                                                  opini    label\n",
       "286                                   berita mantap cnn  positif\n",
       "1495  nyesel install beda cnn bayang sblmnya berita ...  positif\n",
       "40                              berita agama tarik suka  positif\n",
       "1106                                berita tidak netral  negatif\n",
       "1379                               berita aktual mantap  positif\n",
       "...                                                 ...      ...\n",
       "1033                                 nyaman baca berita  positif\n",
       "1731                                        baik berita  positif\n",
       "763                                        bagus berita  positif\n",
       "835                                      berita terkini  positif\n",
       "1653             mesti hrs hapus aplikasi aplikasi data  positif\n",
       "\n",
       "[2000 rows x 2 columns]"
      ]
     },
     "execution_count": 6,
     "metadata": {},
     "output_type": "execute_result"
    }
   ],
   "source": [
    "df_train"
   ]
  },
  {
   "cell_type": "code",
   "execution_count": 7,
   "id": "627c8a61",
   "metadata": {},
   "outputs": [
    {
     "data": {
      "text/html": [
       "<div>\n",
       "<style scoped>\n",
       "    .dataframe tbody tr th:only-of-type {\n",
       "        vertical-align: middle;\n",
       "    }\n",
       "\n",
       "    .dataframe tbody tr th {\n",
       "        vertical-align: top;\n",
       "    }\n",
       "\n",
       "    .dataframe thead th {\n",
       "        text-align: right;\n",
       "    }\n",
       "</style>\n",
       "<table border=\"1\" class=\"dataframe\">\n",
       "  <thead>\n",
       "    <tr style=\"text-align: right;\">\n",
       "      <th></th>\n",
       "      <th>opini</th>\n",
       "      <th>label</th>\n",
       "    </tr>\n",
       "  </thead>\n",
       "  <tbody>\n",
       "    <tr>\n",
       "      <th>53</th>\n",
       "      <td>cnn berita tarik terkini sayang gabung allo at...</td>\n",
       "      <td>negatif</td>\n",
       "    </tr>\n",
       "    <tr>\n",
       "      <th>2391</th>\n",
       "      <td>lumayan berita terkini</td>\n",
       "      <td>positif</td>\n",
       "    </tr>\n",
       "    <tr>\n",
       "      <th>2310</th>\n",
       "      <td>berita slalu terkini</td>\n",
       "      <td>positif</td>\n",
       "    </tr>\n",
       "    <tr>\n",
       "      <th>728</th>\n",
       "      <td>judul berita sudut binance bagi investasi bodong</td>\n",
       "      <td>negatif</td>\n",
       "    </tr>\n",
       "    <tr>\n",
       "      <th>850</th>\n",
       "      <td>moga depan saji berita indonesia berimbang leb...</td>\n",
       "      <td>positif</td>\n",
       "    </tr>\n",
       "    <tr>\n",
       "      <th>...</th>\n",
       "      <td>...</td>\n",
       "      <td>...</td>\n",
       "    </tr>\n",
       "    <tr>\n",
       "      <th>1810</th>\n",
       "      <td>berita akurat</td>\n",
       "      <td>positif</td>\n",
       "    </tr>\n",
       "    <tr>\n",
       "      <th>2330</th>\n",
       "      <td>terkini lengkap kabar</td>\n",
       "      <td>positif</td>\n",
       "    </tr>\n",
       "    <tr>\n",
       "      <th>684</th>\n",
       "      <td>judul berita tentang jemaah haji malaysia sesa...</td>\n",
       "      <td>negatif</td>\n",
       "    </tr>\n",
       "    <tr>\n",
       "      <th>1674</th>\n",
       "      <td>bagus slalu terkini</td>\n",
       "      <td>positif</td>\n",
       "    </tr>\n",
       "    <tr>\n",
       "      <th>2075</th>\n",
       "      <td>berita calon presiden no jokowi bagus bagus pe...</td>\n",
       "      <td>positif</td>\n",
       "    </tr>\n",
       "  </tbody>\n",
       "</table>\n",
       "<p>500 rows × 2 columns</p>\n",
       "</div>"
      ],
      "text/plain": [
       "                                                  opini    label\n",
       "53    cnn berita tarik terkini sayang gabung allo at...  negatif\n",
       "2391                             lumayan berita terkini  positif\n",
       "2310                               berita slalu terkini  positif\n",
       "728    judul berita sudut binance bagi investasi bodong  negatif\n",
       "850   moga depan saji berita indonesia berimbang leb...  positif\n",
       "...                                                 ...      ...\n",
       "1810                                      berita akurat  positif\n",
       "2330                              terkini lengkap kabar  positif\n",
       "684   judul berita tentang jemaah haji malaysia sesa...  negatif\n",
       "1674                                bagus slalu terkini  positif\n",
       "2075  berita calon presiden no jokowi bagus bagus pe...  positif\n",
       "\n",
       "[500 rows x 2 columns]"
      ]
     },
     "execution_count": 7,
     "metadata": {},
     "output_type": "execute_result"
    }
   ],
   "source": [
    "df_test"
   ]
  },
  {
   "cell_type": "code",
   "execution_count": 8,
   "id": "0e280e0e",
   "metadata": {},
   "outputs": [],
   "source": [
    "#TFIDF vectorizer\n",
    "import numpy as np\n",
    "from sklearn.feature_extraction.text import TfidfVectorizer #fitur ekstraksi, tfidf vectorizer\n",
    "\n",
    "tfidf_vect = TfidfVectorizer(max_features = 2500)\n",
    "tfidf_vect.fit(df['opini'])\n",
    "train_X_tfidf = tfidf_vect.transform(df_train['opini']) #opini train\n",
    "test_X_tfidf = tfidf_vect.transform(df_test['opini']) #opini testing"
   ]
  },
  {
   "cell_type": "code",
   "execution_count": 9,
   "id": "d83992d0",
   "metadata": {},
   "outputs": [
    {
     "data": {
      "text/html": [
       "<style>#sk-container-id-1 {color: black;background-color: white;}#sk-container-id-1 pre{padding: 0;}#sk-container-id-1 div.sk-toggleable {background-color: white;}#sk-container-id-1 label.sk-toggleable__label {cursor: pointer;display: block;width: 100%;margin-bottom: 0;padding: 0.3em;box-sizing: border-box;text-align: center;}#sk-container-id-1 label.sk-toggleable__label-arrow:before {content: \"▸\";float: left;margin-right: 0.25em;color: #696969;}#sk-container-id-1 label.sk-toggleable__label-arrow:hover:before {color: black;}#sk-container-id-1 div.sk-estimator:hover label.sk-toggleable__label-arrow:before {color: black;}#sk-container-id-1 div.sk-toggleable__content {max-height: 0;max-width: 0;overflow: hidden;text-align: left;background-color: #f0f8ff;}#sk-container-id-1 div.sk-toggleable__content pre {margin: 0.2em;color: black;border-radius: 0.25em;background-color: #f0f8ff;}#sk-container-id-1 input.sk-toggleable__control:checked~div.sk-toggleable__content {max-height: 200px;max-width: 100%;overflow: auto;}#sk-container-id-1 input.sk-toggleable__control:checked~label.sk-toggleable__label-arrow:before {content: \"▾\";}#sk-container-id-1 div.sk-estimator input.sk-toggleable__control:checked~label.sk-toggleable__label {background-color: #d4ebff;}#sk-container-id-1 div.sk-label input.sk-toggleable__control:checked~label.sk-toggleable__label {background-color: #d4ebff;}#sk-container-id-1 input.sk-hidden--visually {border: 0;clip: rect(1px 1px 1px 1px);clip: rect(1px, 1px, 1px, 1px);height: 1px;margin: -1px;overflow: hidden;padding: 0;position: absolute;width: 1px;}#sk-container-id-1 div.sk-estimator {font-family: monospace;background-color: #f0f8ff;border: 1px dotted black;border-radius: 0.25em;box-sizing: border-box;margin-bottom: 0.5em;}#sk-container-id-1 div.sk-estimator:hover {background-color: #d4ebff;}#sk-container-id-1 div.sk-parallel-item::after {content: \"\";width: 100%;border-bottom: 1px solid gray;flex-grow: 1;}#sk-container-id-1 div.sk-label:hover label.sk-toggleable__label {background-color: #d4ebff;}#sk-container-id-1 div.sk-serial::before {content: \"\";position: absolute;border-left: 1px solid gray;box-sizing: border-box;top: 0;bottom: 0;left: 50%;z-index: 0;}#sk-container-id-1 div.sk-serial {display: flex;flex-direction: column;align-items: center;background-color: white;padding-right: 0.2em;padding-left: 0.2em;position: relative;}#sk-container-id-1 div.sk-item {position: relative;z-index: 1;}#sk-container-id-1 div.sk-parallel {display: flex;align-items: stretch;justify-content: center;background-color: white;position: relative;}#sk-container-id-1 div.sk-item::before, #sk-container-id-1 div.sk-parallel-item::before {content: \"\";position: absolute;border-left: 1px solid gray;box-sizing: border-box;top: 0;bottom: 0;left: 50%;z-index: -1;}#sk-container-id-1 div.sk-parallel-item {display: flex;flex-direction: column;z-index: 1;position: relative;background-color: white;}#sk-container-id-1 div.sk-parallel-item:first-child::after {align-self: flex-end;width: 50%;}#sk-container-id-1 div.sk-parallel-item:last-child::after {align-self: flex-start;width: 50%;}#sk-container-id-1 div.sk-parallel-item:only-child::after {width: 0;}#sk-container-id-1 div.sk-dashed-wrapped {border: 1px dashed gray;margin: 0 0.4em 0.5em 0.4em;box-sizing: border-box;padding-bottom: 0.4em;background-color: white;}#sk-container-id-1 div.sk-label label {font-family: monospace;font-weight: bold;display: inline-block;line-height: 1.2em;}#sk-container-id-1 div.sk-label-container {text-align: center;}#sk-container-id-1 div.sk-container {/* jupyter's `normalize.less` sets `[hidden] { display: none; }` but bootstrap.min.css set `[hidden] { display: none !important; }` so we also need the `!important` here to be able to override the default hidden behavior on the sphinx rendered scikit-learn.org. See: https://github.com/scikit-learn/scikit-learn/issues/21755 */display: inline-block !important;position: relative;}#sk-container-id-1 div.sk-text-repr-fallback {display: none;}</style><div id=\"sk-container-id-1\" class=\"sk-top-container\"><div class=\"sk-text-repr-fallback\"><pre>TfidfVectorizer(max_features=2500)</pre><b>In a Jupyter environment, please rerun this cell to show the HTML representation or trust the notebook. <br />On GitHub, the HTML representation is unable to render, please try loading this page with nbviewer.org.</b></div><div class=\"sk-container\" hidden><div class=\"sk-item\"><div class=\"sk-estimator sk-toggleable\"><input class=\"sk-toggleable__control sk-hidden--visually\" id=\"sk-estimator-id-1\" type=\"checkbox\" checked><label for=\"sk-estimator-id-1\" class=\"sk-toggleable__label sk-toggleable__label-arrow\">TfidfVectorizer</label><div class=\"sk-toggleable__content\"><pre>TfidfVectorizer(max_features=2500)</pre></div></div></div></div></div>"
      ],
      "text/plain": [
       "TfidfVectorizer(max_features=2500)"
      ]
     },
     "execution_count": 9,
     "metadata": {},
     "output_type": "execute_result"
    }
   ],
   "source": [
    "tfidf_vect"
   ]
  },
  {
   "cell_type": "code",
   "execution_count": 10,
   "id": "4b0712d4",
   "metadata": {},
   "outputs": [
    {
     "name": "stdout",
     "output_type": "stream",
     "text": [
      "  (0, 2222)\t0.10923777934545088\n",
      "  (0, 2160)\t0.16509514091763244\n",
      "  (0, 1912)\t0.21512477132398783\n",
      "  (0, 1865)\t0.2828025686004787\n",
      "  (0, 1837)\t0.25093442791155124\n",
      "  (0, 1672)\t0.2828025686004787\n",
      "  (0, 1519)\t0.2045037478505665\n",
      "  (0, 1346)\t0.1622659796128498\n",
      "  (0, 1187)\t0.24459337389843258\n",
      "  (0, 787)\t0.5018688558231025\n",
      "  (0, 782)\t0.23923208912151359\n",
      "  (0, 577)\t0.2828025686004787\n",
      "  (0, 519)\t0.10377524411031044\n",
      "  (0, 301)\t0.10771779302470422\n",
      "  (0, 167)\t0.26870069169595834\n",
      "  (0, 72)\t0.2828025686004787\n",
      "  (1, 2222)\t0.4799347257358374\n",
      "  (1, 1202)\t0.8447897290411664\n",
      "  (1, 301)\t0.23662834306020708\n",
      "  (2, 2222)\t0.42915497902620664\n",
      "  (2, 2061)\t0.8780973366185469\n",
      "  (2, 301)\t0.21159175645669748\n",
      "  (3, 2103)\t0.37394395064287056\n",
      "  (3, 980)\t0.3024015012383758\n",
      "  (3, 948)\t0.4327290267949558\n",
      "  :\t:\n",
      "  (497, 973)\t0.3703594310475993\n",
      "  (497, 875)\t0.38979653436913114\n",
      "  (497, 825)\t0.27484672182160785\n",
      "  (497, 301)\t0.07423557469564299\n",
      "  (498, 2222)\t0.4058274880966278\n",
      "  (498, 2061)\t0.8303667762001726\n",
      "  (498, 188)\t0.3818312020881923\n",
      "  (499, 2401)\t0.24154609099736357\n",
      "  (499, 2246)\t0.21478284425363806\n",
      "  (499, 1716)\t0.24695923346225543\n",
      "  (499, 1652)\t0.16915733093648405\n",
      "  (499, 1534)\t0.26119751250969014\n",
      "  (499, 1450)\t0.21980796158909988\n",
      "  (499, 1436)\t0.4654419088296414\n",
      "  (499, 1124)\t0.21251651490768517\n",
      "  (499, 978)\t0.22261873466125293\n",
      "  (499, 557)\t0.27129973226325793\n",
      "  (499, 458)\t0.1928650933953586\n",
      "  (499, 450)\t0.27129973226325793\n",
      "  (499, 301)\t0.05437985332888306\n",
      "  (499, 273)\t0.21251651490768517\n",
      "  (499, 209)\t0.16980167776538102\n",
      "  (499, 188)\t0.2075455347450758\n",
      "  (499, 132)\t0.12347382269795157\n",
      "  (499, 41)\t0.24154609099736357\n"
     ]
    }
   ],
   "source": [
    "print(test_X_tfidf) #cetak testing opini tfidf"
   ]
  },
  {
   "cell_type": "code",
   "execution_count": 11,
   "id": "66b3948e",
   "metadata": {},
   "outputs": [
    {
     "name": "stdout",
     "output_type": "stream",
     "text": [
      "  (0, 1251)\t0.7771632341030018\n",
      "  (0, 519)\t0.5585541549891285\n",
      "  (0, 301)\t0.2898871564987713\n",
      "  (1, 1915)\t0.39592797504567817\n",
      "  (1, 1524)\t0.25942717326512094\n",
      "  (1, 1483)\t0.34243451081947823\n",
      "  (1, 1211)\t0.3621773568437583\n",
      "  (1, 946)\t0.3349286291159513\n",
      "  (1, 741)\t0.25006023001898375\n",
      "  (1, 582)\t0.2978186203985435\n",
      "  (1, 519)\t0.14528694864335334\n",
      "  (1, 301)\t0.0754032890855936\n",
      "  (1, 261)\t0.28381084822090363\n",
      "  (1, 253)\t0.39592797504567817\n",
      "  (2, 2160)\t0.4793643493827251\n",
      "  (2, 2106)\t0.426081601923929\n",
      "  (2, 301)\t0.1563827665769767\n",
      "  (2, 26)\t0.7511382824490748\n",
      "  (3, 2263)\t0.7522769544637176\n",
      "  (3, 1385)\t0.619382596106189\n",
      "  (3, 301)\t0.2245987164334455\n",
      "  (4, 1251)\t0.6670885760543663\n",
      "  (4, 301)\t0.24882856259716576\n",
      "  (4, 52)\t0.7021945443633026\n",
      "  (5, 2222)\t0.29019210363149145\n",
      "  :\t:\n",
      "  (1993, 645)\t0.12959753183112682\n",
      "  (1993, 594)\t0.30640132785455043\n",
      "  (1993, 581)\t0.245754938069647\n",
      "  (1993, 519)\t0.16865231856547966\n",
      "  (1993, 472)\t0.15320066392727522\n",
      "  (1993, 425)\t0.09145643778375048\n",
      "  (1993, 354)\t0.13250186325708188\n",
      "  (1993, 320)\t0.15320066392727522\n",
      "  (1993, 301)\t0.05835320905970572\n",
      "  (1994, 939)\t0.6162990615487922\n",
      "  (1994, 702)\t0.7875122010064847\n",
      "  (1995, 1465)\t0.8234199463964395\n",
      "  (1995, 301)\t0.21283312532659676\n",
      "  (1995, 179)\t0.526005373204683\n",
      "  (1996, 301)\t0.30499609775950215\n",
      "  (1996, 209)\t0.9523536004822348\n",
      "  (1997, 301)\t0.46415895693593257\n",
      "  (1997, 188)\t0.8857519193860927\n",
      "  (1998, 2222)\t0.8969092643642159\n",
      "  (1998, 301)\t0.44221462153307534\n",
      "  (1999, 1304)\t0.47742024487911233\n",
      "  (1999, 917)\t0.47742024487911233\n",
      "  (1999, 890)\t0.40472458791762767\n",
      "  (1999, 582)\t0.40472458791762767\n",
      "  (1999, 132)\t0.46533411161116245\n"
     ]
    }
   ],
   "source": [
    "print(train_X_tfidf) #cetak testing opini tfidf"
   ]
  },
  {
   "cell_type": "code",
   "execution_count": 12,
   "id": "03ca7d6e",
   "metadata": {},
   "outputs": [],
   "source": [
    "#Save model TFIDF\n",
    "import pickle\n",
    "pickle.dump(tfidf_vect.vocabulary_,open(\"TFIDF-sentimen-judul.pkl\",\"wb\")) #simpan ke pickle"
   ]
  },
  {
   "cell_type": "code",
   "execution_count": 13,
   "id": "a28acc97",
   "metadata": {},
   "outputs": [
    {
     "name": "stdout",
     "output_type": "stream",
     "text": [
      "{'berita': 301, 'cepat': 474, 'terkini': 2222, 'tarik': 2160, 'updet': 2410, 'bagus': 188, 'sesuai': 2014, 'jadi': 954, 'aplikasi': 132, 'henti': 903, 'mantap': 1251, 'percaya': 1647, 'maju': 1214, 'cnn': 519, 'indonesia': 934, 'netral': 1385, 'iklan': 921, 'obyektif': 1494, 'banyak': 235, 'bias': 348, 'judul': 980, 'heboh': 902, 'bahas': 205, 'kadang': 989, 'ngelantur': 1415, 'pesan': 1663, 'moga': 1328, 'manfaat': 1241, 'baru': 244, 'terimakasih': 2215, 'ui': 2375, 'berantak': 288, 'nyaman': 1465, 'beranda': 285, 'tata': 2162, 'potonya': 1707, 'mending': 1298, 'rapi': 1787, 'lengkap': 1159, 'objektif': 1491, 'terimah': 2213, 'kasih': 1004, 'informasi': 938, 'oke': 1505, 'cuman': 561, 'ringan': 1843, 'nggak': 1419, 'lambat': 1119, 'buka': 425, 'narasi': 1374, 'mudah': 1346, 'paham': 1550, 'keren': 1024, 'nama': 1371, 'jurnalisme': 985, 'video': 2437, 'detail': 605, 'suka': 2106, 'bawa': 251, 'baik': 209, 'kualitas': 1084, 'suara': 2099, 'pakai': 1553, 'dengar': 596, 'banget': 221, 'dunia': 695, 'mana': 1236, 'konsisten': 1052, 'akurat': 58, 'bukan': 426, 'bot': 405, 'asli': 159, 'aok': 121, 'baca': 179, 'bgus': 342, 'aktual': 52, 'online': 1519, 'lebih': 1148, 'ramah': 1783, 'lingkungan': 1174, 'info': 936, 'bobot': 385, 'simpel': 2041, 'ambil': 84, 'simpul': 2042, 'publish': 1752, 'akhir': 43, 'simpang': 2040, 'siur': 2058, 'bantu': 233, 'vidionya': 2439, 'member': 1293, 'hilangin': 908, 'oleh': 1513, 'infomasi': 937, 'enak': 721, 'ikut': 923, 'nikmat': 1429, 'pokok': 1688, 'cap': 453, 'jempol': 974, 'bahasa': 206, 'situs': 2057, 'aptudate': 141, 'negeri': 1379, 'saji': 1877, 'wawas': 2461, 'repot': 1819, 'yayasan': 2493, 'didik': 621, 'sarana': 1904, 'jemaah': 973, 'indikasi': 932, 'tentang': 2196, 'negara': 1377, 'bubar': 421, 'dalam': 570, 'muat': 1343, 'puas': 1748, 'agama': 26, 'proper': 1737, 'bahass': 207, 'tahan': 2128, 'layak': 1138, 'sukses': 2111, 'akurasi': 57, 'presisi': 1718, 'nambah': 1372, 'gambar': 793, 'sayang': 1912, 'gabung': 782, 'allo': 72, 'atur': 167, 'ruwet': 1865, 'dar': 577, 'login': 1187, 'gagal': 787, 'pindah': 1672, 'ribet': 1837, 'potong': 1706, 'pas': 1582, 'lumayan': 1202, 'noton': 1451, 'tv': 2355, 'artikel': 147, 'mantep': 1258, 'senang': 1987, 'ayo': 173, 'unduh': 2389, 'by': 444, 'ukun': 2380, 'kun': 1096, 'dly': 655, 'alay': 62, 'tambah': 2139, 'terkinicepat': 2226, 'isi': 950, 'terkadang': 2220, 'beda': 261, 'adab': 10, 'captionnya': 456, 'siippp': 2035, 'meng': 1299, 'atas': 165, 'olah': 1511, 'raga': 1774, 'nasional': 1375, 'internasional': 947, 'saya': 1909, 'bintang': 364, 'performa': 1648, 'toopp': 2302, 'belah': 267, 'menu': 1302, 'dekat': 590, 'tampil': 2141, 'layar': 1140, 'lumaya': 1201, 'tema': 2181, 'gelap': 806, 'imbang': 926, 'jaya': 968, 'terima': 2212, 'bau': 249, 'busuk': 437, 'politik': 1691, 'masuk': 1279, 'media': 1289, 'tajam': 2132, 'redaksi': 1801, 'singkat': 2044, 'difahami': 622, 'visual': 2442, 'angkat': 106, 'cnnin': 522, 'kembang': 1017, 'global': 828, 'bravo': 408, 'kali': 998, 'top': 2303, 'santai': 1901, 'daerah': 566, 'lancar': 1122, 'format': 766, 'labih': 1104, 'cui': 559, 'depan': 600, 'terpecaya': 2240, 'sampai': 1891, 'akses': 47, 'deh': 589, 'proporsional': 1739, 'siiiiip': 2032, 'cocok': 528, 'lazada': 1142, 'menggangu': 1301, 'terkinisehingga': 2233, 'tinggal': 2275, 'udah': 2371, 'dunluttp': 696, 'delete': 591, 'informatif': 939, 'mohon': 1329, 'tingkat': 2277, 'sederhana': 1937, 'kumpul': 1095, 'wartawan': 2458, 'kadrun': 992, 'milik': 1305, 'benci': 277, 'perintah': 1652, 'jokowi': 978, 'tulis': 2339, 'semangat': 1976, 'terus': 2246, 'sportif': 2084, 'sellu': 1972, 'ulas': 2385, 'faktual': 744, 'maaf': 1205, 'jalan': 957, 'perangkat': 1643, 'redmi': 1802, 'note': 1448, 'pro': 1725, 'paksa': 1558, 'uninstalll': 2398, 'ganti': 797, 'gosip': 844, 'terkinid': 2227, 'olahraga': 1512, 'bulutangkis': 430, 'gp': 845, 'kemari': 1016, 'sadar': 1869, 'perhati': 1649, 'barat': 242, 'double': 670, 'standard': 2091, 'fair': 739, 'cenderung': 471, 'tendensius': 2191, 'sayaa': 1910, 'nonton': 1442, 'luar': 1194, 'kota': 1063, 'tolong': 2299, 'komentar': 1046, 'langsung': 1124, 'tayang': 2165, 'kirim': 1035, 'tunggu': 2346, 'tambahin': 2140, 'fitur': 755, 'notif': 1449, 'like': 1171, 'balas': 215, 'contoh': 536, 'dari': 579, 'coba': 527, 'doktrin': 659, 'rubah': 1853, 'pikir': 1668, 'org': 1530, 'fakta': 741, 'asumsi': 164, 'sifat': 2028, 'unistal': 2401, 'siar': 2025, 'uu': 2426, 'konstitusi': 1053, 'dukung': 692, 'lawan': 1137, 'prinsipyg': 1723, 'garis': 801, 'wassalamualaikum': 2460, 'warahmatullahi': 2451, 'wa': 2445, 'barakatuh': 241, 'relevansi': 1811, 'bisa': 368, 'cari': 458, 'rekomendasi': 1806, 'kait': 993, 'paling': 1559, 'live': 1177, 'sinyal': 2047, 'bawah': 252, 'muncul': 1356, 'klik': 1037, 'tibatiba': 2262, 'mucul': 1344, 'tuju': 2333, 'tidak': 2263, 'sumber': 2114, 'jurnalis': 984, 'biongbiang': 367, 'bohong': 389, 'sangat': 1896, 'trims': 2317, 'ragu': 1776, 'poko': 1687, 'pahami': 1551, 'terutama': 2248, 'perang': 1642, 'rusia': 1862, 'ukraina': 2378, 'kubu': 1088, 'mungkin': 1358, 'mantal': 1250, 'notifikasi': 1450, 'ok': 1503, 'lima': 1172, 'padat': 1544, 'in': 927, 'daftar': 567, 'dipercaaya': 636, 'portal': 1700, 'alat': 61, 'amerika': 87, 'giring': 825, 'opini': 1524, 'ukrania': 2379, 'korbanauto': 1059, 'hadir': 870, 'formatif': 767, 'abal': 3, 'semenjak': 1980, 'berimbang': 296, 'situasi': 2056, 'kondisi': 1049, 'cerdas': 479, 'up': 2408, 'date': 584, 'negatif': 1378, 'salah': 1880, 'rusiaukraina': 1863, 'indo': 933, 'dibacaagar': 616, 'sengaja': 1991, 'bacamohon': 181, 'alam': 60, 'kini': 1034, 'mudahan': 1347, 'gak': 789, 'hoax': 914, 'ad': 8, 'lawak': 1136, 'unfollow': 2392, 'propaganda': 1735, 'pera': 1641, 'nusantara': 1460, 'ilmu': 925, 'salam': 1882, 'ulasanya': 2386, 'terbaru': 2207, 'minggu': 1309, 'chanell': 489, 'sudut': 2103, 'sampah': 1888, 'jdi': 969, 'sebar': 1926, 'netrall': 1388, 'sangataktual': 1897, 'beritadunia': 307, 'dateterimakasih': 586, 'buat': 419, 'team': 2167, 'cnnmoga': 524, 'bentuk': 282, 'amerikasebagai': 88, 'propagandakalau': 1736, 'lihat': 1170, 'terdepantetapi': 2211, 'faktademi': 742, 'penting': 1634, 'sekutunyakalau': 1959, 'silah': 2038, 'install': 946, 'bacaada': 180, 'topik': 2304, 'satu': 1907, 'disudutkansekian': 648, 'buruk': 436, 'tanggap': 2149, 'penuh': 1635, 'lmbat': 1179, 'selalu': 1960, 'trus': 2324, 'mantaap': 1248, 'dah': 568, 'luas': 1197, 'apa': 122, 'cepatlengkap': 475, 'profesional': 1728, 'kesini': 1030, 'overproud': 1539, 'doang': 657, 'egy': 705, 'cetak': 486, 'gol': 838, 'diberitain': 620, 'goblog': 833, 'wkwk': 2474, 'tim': 2267, 'gurem': 860, 'liga': 1168, 'orang': 1529, 'witan': 2473, 'kaya': 1010, 'tuhan': 2332, 'bangga': 223, 'banggain': 224, 'sirkuit': 2050, 'mandalika': 1240, 'mulu': 1352, 'ampe': 90, 'bulan': 428, 'norak': 1443, 'lo': 1180, 'hp': 916, 'beli': 268, 'pasti': 1587, 'layan': 1139, 'loading': 1181, 'menganggu': 1300, 'ringkas': 1844, 'sungguh': 2116, 'terusberita': 2247, 'donload': 667, 'aplikaai': 130, 'sekian': 1956, 'mantaps': 1256, 'beritaatrimakasih': 304, 'sngt': 2071, 'bermt': 325, 'dipercaya': 637, 'secepatnya': 1936, 'god': 836, 'bless': 375, 'padaat': 1542, 'fleksibel': 759, 'nyesel': 1483, 'donwload': 668, 'emang': 716, 'for': 763, 'cru': 549, 'sehat': 1944, 'and': 97, 'aprisiasi': 140, 'buru': 434, 'guys': 863, 'filter': 753, 'pilih': 1669, 'kategori': 1006, 'realistis': 1797, 'hati': 899, 'relevan': 1810, 'beritaa': 302, 'masayaarakat': 1273, 'mancanegara': 1239, 'kabar': 987, 'banyakin': 236, 'putar': 1763, 'cryepto': 550, 'currensaya': 563, 'typo': 2362, 'sub': 2100, 'tahu': 2130, 'respon': 1826, 'booming': 395, 'breaking': 409, 'news': 1392, 'tanggung': 2150, 'yang': 2492, 'bener': 279, 'halaman': 878, 'jamin': 961, 'batu': 248, 'dapet': 576, 'cipta': 500, 'hoak': 912, 'grafik': 847, 'kenal': 1020, 'ekspetasi': 710, 'terbaaru': 2203, 'bukti': 427, 'otomatis': 1537, 'aman': 79, 'jawab': 967, 'karna': 1000, 'mutu': 1366, 'nyata': 1477, 'rekayasa': 1805, 'komplit': 1048, 'font': 762, 'bosan': 400, 'monoton': 1331, 'kesan': 1029, 'edukasi': 702, 'tepat': 2201, 'jaga': 955, 'wawasanya': 2462, 'wifi': 2470, 'andal': 98, 'paket': 1557, 'data': 582, 'enas': 722, 'hitung': 911, 'ajak': 34, 'doa': 656, 'kosentrasi': 1061, 'lanjutkan': 1126, 'jangkau': 963, 'sekali': 1949, 'aktivitas': 51, 'sip': 2048, 'pake': 1555, 'headline': 900, 'galaxy': 790, 'edge': 698, 'bug': 423, 'close': 512, 'force': 764, 'normal': 1444, 'tp': 2305, 'dapat': 575, 'nge': 1409, 'hang': 886, 'lugas': 1200, 'trmksh': 2321, 'dengan': 595, 'lewat': 1163, 'bisu': 371, 'manja': 1245, 'cerah': 478, 'gaya': 804, 'erti': 731, 'berkat': 315, 'layer': 1141, 'rancangan': 1785, 'conten': 534, 'operasi': 1523, 'cukup': 560, 'motor': 1336, 'ada': 9, 'inspiratif': 944, 'tekhnologi': 2172, 'penyajian': 1637, 'pengahapusan': 1624, 'premium': 1714, 'hapus': 890, 'batal': 247, 'dihapuspadahal': 626, 'tanggal': 2148, 'samad': 1885, 'kuga': 1091, 'pemostingan': 1620, 'bingung': 362, 'loding': 1183, 'lokal': 1188, 'spesifik': 2082, 'aktif': 50, 'lokasi': 1190, 'kelompok': 1015, 'radikal': 1770, 'adem': 13, 'tentrem': 2198, 'siaran': 2026, 'jaring': 965, 'terkinitransparan': 2234, 'teparcaya': 2200, 'beragam': 284, 'kredibel': 1070, 'tampilan': 2142, 'bnget': 382, 'riill': 1841, 'agam': 25, 'khusus': 1033, 'favorit': 749, 'gampang': 794, 'cepan': 473, 'responnya': 1827, 'transfaran': 2308, 'patut': 1589, 'publik': 1749, 'hangat': 887, 'banding': 218, 'laincuma': 1112, 'sajajangan': 1874, 'ulang': 2384, 'amanah': 80, 'sepak': 1997, 'bola': 390, 'tvnya': 2357, 'huruf': 919, 'gedegede': 805, 'tua': 2330, 'cepet': 477, 'ret': 1829, 'kasi': 1003, 'paya': 1591, 'liat': 1167, 'laman': 1117, 'memang': 1292, 'nga': 1393, 'apik': 127, 'independen': 929, 'berani': 287, 'wajib': 2449, 'fitnah': 754, 'terimaksih': 2216, 'pokoke': 1689, 'valid': 2428, 'tengah': 2193, 'islam': 951, 'dh': 610, 'berandatata': 286, 'letak': 1160, 'tenis': 2195, 'lapang': 1128, 'golongan': 840, 'adil': 15, 'dismpai': 646, 'kayak': 1011, 'cee': 466, 'beee': 264, 'cberita': 462, 'ubah': 2366, 'lebaykan': 1147, 'cerna': 485, 'nnton': 1435, 'penyampain': 1639, 'pusing': 1762, 'seimbang': 1945, 'bonafide': 393, 'downlod': 672, 'ucnews': 2368, 'eh': 706, 'admin': 16, 'pasu': 1588, 'smw': 2069, 'sdah': 1918, 'trmkasiiih': 2320, 'nila': 1430, 'dulu': 693, 'jangan': 962, 'opera': 1522, 'blokir': 377, 'maksa': 1223, 'ngeklik': 1414, 'sendiri': 1989, 'emosi': 720, 'papar': 1574, 'dlm': 654, 'smart': 2064, 'sebagai': 1923, 'cermin': 484, 'ormas': 1533, 'susun': 2124, 'tak': 2133, 'detik': 606, 'cm': 514, 'seru': 2011, 'parah': 1577, 'alias': 68, 'hilang': 907, 'sopan': 2076, 'porno': 1699, 'bosenin': 401, 'slalu': 2061, 'betah': 338, 'sma': 2063, 'acara': 7, 'populer': 1697, 'krna': 1080, 'parameter': 1578, 'aamiiin': 1, 'lanjut': 1125, 'nuansa': 1457, 'hidup': 905, 'universal': 2403, 'senantiasa': 1988, 'selamat': 1963, 'kpi': 1067, 'award': 171, 'kwalitas': 1102, 'ngasih': 1404, 'bang': 219, 'kecewa': 1012, 'genggam': 812, 'pisah': 1675, 'jenis': 976, 'familiar': 745, 'dll': 653, 'jelek': 971, 'kripto': 1075, 'bossss': 404, 'gerus': 817, 'kuasa': 1086, 'ha': 865, 'telusur': 2180, 'kena': 1019, 'analisa': 92, 'sampaikan': 1892, 'apl': 128, 'ajar': 36, 'crypto': 551, 'giveaway': 827, 'shibaarmy': 2020, 'platform': 1678, 'bodoh': 387, 'bbc': 257, 'utama': 2423, 'isu': 952, 'gajelass': 788, 'kalau': 997, 'gorang': 842, 'goreng': 843, 'ae': 21, 'dramatisir': 679, 'dasar': 581, 'realitanya': 1799, 'shiba': 2019, 'army': 146, 'sebelum': 1932, 'terbit': 2208, 'ngefud': 1411, 'asal': 150, 'tentng': 2197, 'ini': 940, 'kampret': 999, 'gaduh': 785, 'aplagi': 129, 'hancur': 884, 'market': 1266, 'merah': 1303, 'nyangkut': 1473, 'hareuuuuugggghhhhhh': 892, 'dimarahin': 631, 'fud': 778, 'elo': 713, 'elon': 714, 'musk': 1363, 'fad': 737, 'payah': 1592, 'bilang': 358, 'ilegal': 924, 'sementara': 1981, 'shibaindodax': 2021, 'awas': 172, 'bapebti': 237, 'nanggung': 1373, 'min': 1307, 'asereheeee': 154, 'ratus': 1795, 'coin': 529, 'shame': 2018, 'on': 1516, 'you': 2495, 'fudd': 779, 'whahaha': 2466, 'apaa': 123, 'sekarang': 1953, 'susah': 2122, 'lsg': 1192, 'mati': 1285, 'xiaomi': 2486, 'relatif': 1809, 'bombastis': 392, 'diskredit': 645, 'popularitas': 1696, 'turun': 2351, 'jakarta': 956, 'error': 730, 'penyampaian': 1638, 'guna': 857, 'analisanya': 93, 'ukur': 2381, 'sulit': 2112, 'komen': 1044, 'di': 612, 'putus': 1765, 'respin': 1825, 'usaha': 2418, 'realita': 1798, 'foto': 768, 'kurang': 1100, 'smg': 2065, 'ganggu': 795, 'serius': 2009, 'luga': 1199, 'beriita': 295, 'yahut': 2491, 'kerap': 1022, 'tapi': 2156, 'juga': 981, 'selibriti': 1971, 'tokoh': 2295, 'dimunculin': 635, 'sampul': 1893, 'perbaikn': 1645, 'mskn': 1339, 'thank': 2256, 'cross': 548, 'cek': 468, 'kompas': 1047, 'com': 531, 'terkinis': 2231, 'tele': 2178, 'pendek': 1623, 'malas': 1227, 'laura': 1133, 'seleksi': 1966, 'low': 1191, 'lagi': 1107, 'hibur': 904, 'ekonomi': 708, 'bisnis': 369, 'terpercaya': 2241, 'tpi': 2306, 'turut': 2352, 'bintangya': 366, 'selalutks': 1961, 'kosong': 1062, 'ruang': 1852, 'teman': 2182, 'senggang': 1992, 'butuh': 440, 'sosial': 2078, 'ragam': 1775, 'materi': 1284, 'gratis': 849, 'pihak': 1667, 'oposisi': 1526, 'mudahn': 1348, 'bbrp': 258, 'sedia': 1938, 'tutup': 2354, 'hakim': 876, 'mampu': 1233, 'ngomong': 1422, 'smua': 2068, 'pada': 1541, 'tau': 2163, 'kala': 994, 'gimana': 823, 'cara': 457, 'rekomended': 1807, 'pop': 1695, 'nutup': 1461, 'jam': 958, 'banner': 232, 'gerak': 814, 'ngetrend': 1417, 'jelas': 970, 'bhsanya': 345, 'markotop': 1267, 'beritsnya': 314, 'macet': 1206, 'bosss': 402, 'hrs': 917, 'mantaaaplikasi': 1247, 'sempat': 1983, 'taut': 2164, 'blank': 373, 'popup': 1698, 'lapor': 1130, 'non': 1439, 'uninstall': 2397, 'terbaik': 2204, 'tiada': 2260, 'cmn': 516, 'sayaarat': 1911, 'peristiwa': 1653, 'harap': 891, 'anut': 120, 'smp': 2067, 'manca': 1238, 'skali': 2060, 'digedein': 623, 'smoga': 2066, 'dusta': 697, 'nyantay': 1474, 'siipp': 2034, 'pemberitahuannya': 1612, 'hina': 909, 'tugas': 2331, 'aja': 32, 'dri': 681, 'izin': 953, 'saran': 1903, 'audio': 168, 'besar': 335, 'volume': 2444, 'pelan': 1603, 'vidio': 2438, 'pulsa': 1757, 'bablas': 178, 'tunjuk': 2347, 'google': 841, 'chrome': 493, 'bs': 416, 'fungsi': 781, 'poin': 1685, 'cuan': 556, 'untung': 2406, 'pakek': 1556, 'kuota': 1098, 'akun': 56, 'hari': 895, 'covid': 543, 'vaksin': 2427, 'denger': 597, 'virus': 2441, 'self': 1970, 'limiting': 1173, 'desease': 603, 'sembuh': 1979, 'ratio': 1794, 'angka': 105, 'anies': 107, 'reward': 1833, 'terimakasi': 2214, 'era': 728, 'teknologi': 2174, 'sekaranghanya': 1954, 'tangansmua': 2147, 'mobile': 1323, 'emg': 718, 'ngoceh': 1421, 'aset': 155, 'cryptocurrency': 553, 'sikap': 2036, 'ojk': 1500, 'baplikasiebti': 240, 'pasrah': 1585, 'harganta': 894, 'brp': 413, 'cicil': 495, 'okrek': 1510, 'tersajitrims': 2242, 'tingkatkan': 2278, 'haji': 875, 'malaysia': 1228, 'sesat': 2013, 'seram': 2003, 'provokatif': 1743, 'viral': 2440, 'edit': 699, 'akan': 41, 'cuci': 557, 'tangan': 2146, 'pecah': 1600, 'clickbait': 508, 'gin': 824, 'mah': 1209, 'bredel': 410, 'bebas': 259, 'pers': 1657, 'full': 780, 'susul': 2123, 'blum': 378, 'masaya': 1272, 'takut': 2135, 'padahal': 1543, 'pemberitaaan': 1608, 'updete': 2411, 'bujug': 424, 'zaman': 2499, 'nyari': 1475, 'tukang': 2336, 'koran': 1057, 'pandemi': 1563, 'cri': 547, 'sblm': 1914, 'semoga': 1982, 'pewitttttttt': 1665, 'massal': 1278, 'beneran': 280, 'exp': 736, 'prediksi': 1713, 'raja': 1778, 'dewa': 609, 'pradaban': 1710, 'jaman': 959, 'nilai': 1431, 'iring': 949, 'pulortal': 1756, 'urus': 2416, 'persepsi': 1661, 'biar': 347, 'muda': 1345, 'tebar': 2169, 'panik': 1566, 'asing': 158, 'beritaini': 310, 'kerenn': 1025, 'ayuk': 174, 'tiati': 2261, 'udh': 2373, 'serang': 2004, 'netizen': 1384, 'mainmain': 1212, 'binance': 360, 'bagi': 187, 'investasi': 948, 'bodong': 388, 'rendah': 1813, 'cryptoners': 554, 'singgung': 2043, 'pump': 1758, 'profokatif': 1733, 'nitizen': 1432, 'mangsedih': 1243, 'hoaks': 913, 'cryptocurncy': 552, 'baye': 256, 'saham': 1871, 'welcome': 2464, 'gera': 813, 'comunitas': 532, 'cnbc': 517, 'wkwkwkkw': 2475, 'payahh': 1593, 'hanyal': 889, 'jatuh': 966, 'ngaco': 1395, 'bayar': 254, 'dalang': 571, 'bandar': 217, 'gausah': 802, 'baper': 238, 'rating': 1792, 'mu': 1340, 'ulah': 2383, 'drama': 678, 'pojok': 1686, 'selektif': 1967, 'nyudutin': 1486, 'cok': 530, 'gue': 855, 'sedih': 1939, 'tukar': 2337, 'dikit': 629, 'take': 2134, 'down': 671, 'trusted': 2325, 'largest': 1131, 'exchange': 735, 'kerja': 1026, 'nyinyirin': 1485, 'no': 1436, 'segitunya': 1942, 'uang': 2363, 'edukatif': 703, 'warga': 2454, 'prindavan': 1722, 'bedain': 263, 'legal': 1152, 'wartawannya': 2459, 'provokator': 1745, 'opino': 1525, 'sajareport': 1875, 'aj': 31, 'tolol': 2298, 'anjing': 109, 'kelas': 1013, 'perkembangan': 1654, 'terjadi': 2217, 'selesai': 1969, 'malh': 1230, 'engga': 723, 'tewas': 2254, 'sebut': 1935, 'aneh': 101, 'assalamualaikum': 162, 'whatsaplikasi': 2467, 'presenternya': 1715, 'model': 1327, 'tayangn': 2166, 'beritaasteril': 303, 'anjlok': 111, 'brangkat': 407, 'streaming': 2097, 'terjemah': 2219, 'offline': 1498, 'mksh': 1313, 'album': 63, 'pelintir': 1604, 'br': 406, 'dengqn': 598, 'kt': 1083, 'bagaimana': 185, 'nkri': 1433, 'astro': 163, 'pnya': 1683, 'sg': 2017, 'so': 2072, 'keras': 1023, 'yahahahah': 2490, 'id': 920, 'cast': 460, 'chromecast': 494, 'nest': 1383, 'developer': 608, 'bagusss': 196, 'siip': 2033, 'boong': 396, 'tonton': 2301, 'youtube': 2496, 'beritaberitaa': 306, 'negri': 1380, 'tuntas': 2349, 'panas': 1561, 'makan': 1217, 'ajha': 37, 'flash': 758, 'super': 2117, 'optimal': 1528, 'make': 1219, 'kadanga': 990, 'seluler': 1973, 'editor': 700, 'digital': 624, 'banjarmasin': 231, 'notasi': 1447, 'hafal': 872, 'reportase': 1816, 'trans': 2307, 'males': 1229, 'berfikir': 292, 'eks': 709, 'tuk': 2335, 'matursuwun': 1287, 'rumah': 1856, 'anehsekarang': 102, 'berkwalitasaplikasilikasinya': 318, 'abis': 5, 'alternatif': 76, 'seharihari': 1943, 'siti': 2055, 'rahma': 1777, 'provokasi': 1742, 'aktualitas': 53, 'baning': 230, 'gantung': 798, 'lebay': 1145, 'responsif': 1828, 'bela': 265, 'bkn': 372, 'azas': 175, 'benar': 273, 'terkesanprovokatif': 2221, 'bgini': 340, 'unfaedah': 2391, 'berkwalitasbisa': 319, 'cabel': 447, 'program': 1734, 'pemerintah': 1615, 'dibantu': 618, 'tiga': 2266, 'klw': 1039, 'ch': 487, 'bisskey': 370, 'rolling': 1847, 'kunci': 1097, 'terup': 2245, 'proporsi': 1738, 'penggiringam': 1629, 'melintir': 1291, 'kredible': 1072, 'basi': 246, 'auto': 170, 'solusi': 2075, 'arif': 145, 'bhineka': 343, 'tunggal': 2345, 'bertanggunjawab': 334, 'teks': 2175, 'benarcontoh': 275, 'tumbuh': 2340, 'ri': 1836, 'kuartal': 1085, 'minus': 1310, 'persenpadahal': 1659, 'persen': 1658, 'nyamasih': 1466, 'nyaterima': 1478, 'nyampah': 1469, 'byegue': 446, 'rindu': 1842, 'pang': 1565, 'musikmusik': 1362, 'versi': 2434, 'bahaya': 208, 'gencar': 810, 'sepenuh': 2000, 'setia': 2016, 'ckup': 504, 'kumpar': 1093, 'koment': 1045, 'transparan': 2310, 'provokativ': 1744, 'seringkali': 2008, 'bnyk': 383, 'laut': 1134, 'china': 492, 'selatan': 1965, 'timur': 2271, 'aku': 55, 'gadapat': 783, 'antena': 117, 'geser': 818, 'chanel': 488, 'transmedia': 2309, 'tvone': 2358, 'tvri': 2359, 'kuat': 1087, 'akal': 40, 'ken': 1018, 'ntn': 1454, 'msh': 1337, 'woiiii': 2478, 'bangsatttt': 228, 'giblllog': 819, 'anjjjing': 110, 'prakerja': 1711, 'cairr': 449, 'bangsattt': 227, 'bantuuu': 234, 'cuhhhhh': 558, 'gragraikut': 848, 'latih': 1132, 'aplikasiii': 133, 'luuu': 1204, 'annnjiiiing': 112, 'annnjing': 113, 'lu': 1193, 'tokopedia': 2296, 'annnnjiiiing': 114, 'objektifitas': 1492, 'iklanya': 922, 'semat': 1977, 'om': 1514, 'demo': 593, 'transtv': 2312, 'karyawan': 1002, 'hindar': 910, 'corona': 540, 'pbnu': 1595, 'aju': 39, 'review': 1831, 'pidato': 1666, 'beliau': 269, 'sepakat': 1998, 'sila': 2037, 'uji': 2377, 'mainstream': 1213, 'nu': 1456, 'muhammadiyah': 1349, 'curiga': 562, 'balik': 216, 'dipercsayaa': 638, 'bhs': 344, 'arab': 142, 'baguss': 194, 'andil': 99, 'rusuh': 1864, 'ttg': 2327, 'omnibus': 1515, 'law': 1135, 'cuti': 564, 'hamil': 882, 'haid': 874, 'terkiniada': 2223, 'klau': 1036, 'laen': 1105, 'waras': 2452, 'stasiun': 2093, 'bayaran': 255, 'tempe': 2185, 'main': 1211, 'framing': 773, 'sen': 1986, 'cikeas': 497, 'masukin': 1280, 'email': 715, 'unistall': 2402, 'pengaruh': 1627, 'pemilik': 1619, 'gni': 831, 'ricek': 1839, 'dlagiak': 651, 'kasihan': 1005, 'sekarangshame': 1955, 'user': 2420, 'adakan': 11, 'widget': 2468, 'ngawur': 1407, 'harii': 896, 'bangsat': 226, 'radio': 1773, 'pribadi': 1721, 'ucbrowser': 2367, 'diarahin': 615, 'browser': 412, 'gmn': 830, 'mo': 1322, 'msk': 1338, 'oon': 1521, 'tab': 2126, 'nyampur': 1471, 'fotofoto': 769, 'makalaum': 1215, 'nyempil': 1481, 'editorial': 701, 'makasih': 1218, 'selangkah': 1964, 'mundur': 1357, 'sibuk': 2027, 'timbang': 2268, 'etika': 733, 'jurnalistik': 986, 'ung': 2393, 'aksi': 48, 'buruh': 435, 'dpr': 676, 'tgl': 2255, 'agustus': 27, 'tunda': 2343, 'salur': 1883, 'subsidi': 2102, 'tunaiseperti': 2342, 'kawan': 1009, 'ngak': 1396, 'woi': 2477, 'veronica': 2433, 'papua': 1575, 'separatis': 1999, 'penghianat': 1630, 'malu': 1231, 'sekolah': 1957, 'australia': 169, 'pulang': 1754, 'abdi': 4, 'lampu': 1121, 'dimuaat': 633, 'baju': 212, 'sate': 1906, 'beresberitaa': 290, 'ambilberita': 85, 'turah': 2350, 'partayana': 1580, 'clear': 505, 'akibat': 46, 'sebenernya': 1933, 'ngambil': 1398, 'sisumpah': 2054, 'aftodite': 23, 'pelosok': 1606, 'profesionalitas': 1729, 'bunuh': 433, 'deskripsi': 604, 'perlu': 1656, 'dihapus': 625, 'nongol': 1440, 'muaklah': 1342, 'leluasa': 1155, 'jarang': 964, 'temu': 2188, 'kritik': 1077, 'dimudahkn': 634, 'warna': 2455, 'cinta': 498, 'cidak': 496, 'trmhks': 2319, 'sambung': 1886, 'aspirasi': 161, 'beri': 294, 'pecaya': 1601, 'lho': 1165, 'siap': 2023, 'tunta': 2348, 'strems': 2098, 'warta': 2457, 'sebel': 1927, 'gw': 864, 'telkomsel': 2179, 'bait': 211, 'ngehank': 1412, 'kaum': 1008, 'sumbu': 2115, 'demen': 592, 'nyeleneh': 1480, 'bermanfaat': 321, 'inovatif': 943, 'perlancar': 1655, 'lemot': 1157, 'mulumauny': 1353, 'cnnid': 521, 'untk': 2404, 'tempo': 2187, 'unisntal': 2400, 'pd': 1596, 'pembodohandasar': 1613, 'instal': 945, 'klikbait': 1038, 'nyaa': 1462, 'mode': 1326, 'malam': 1226, 'sukaaaa': 2107, 'benah': 272, 'bagain': 186, 'habis': 867, 'tap': 2155, 'arah': 143, 'scroll': 1917, 'but': 438, 'all': 71, 'okay': 1504, 'ngga': 1418, 'belok': 270, 'anggap': 104, 'bahan': 203, 'rakyat': 1780, 'laku': 1114, 'ting': 2274, 'vg': 2435, 'rg': 1835, 'qx': 1766, 'prlu': 1724, 'goblok': 834, 'anjg': 108, 'todate': 2293, 'buzzer': 442, 'adik': 14, 'real': 1796, 'pintar': 1674, 'click': 507, 'terooooossenggak': 2237, 'ampas': 89, 'detikcom': 607, 'asa': 149, 'bocah': 386, 'waro': 2456, 'kadangak': 991, 'cma': 515, 'bangeud': 222, 'haahha': 866, 'makin': 1221, 'asik': 156, 'partisan': 1581, 'dong': 663, 'apalagi': 124, 'bendera': 278, 'uninstal': 2396, 'terverifikasialias': 2250, 'jg': 977, 'cb': 461, 'konfirmasi': 1051, 'ujar': 2376, 'apalagii': 125, 'thd': 2257, 'sah': 1870, 'duga': 690, 'reputasi': 1820, 'anak': 91, 'bangsa': 225, 'rejeki': 1804, 'tetap': 2253, 'kau': 1007, 'dompet': 662, 'dikesampingkan': 628, 'keruh': 1027, 'tenggelam': 2194, 'mampus': 1234, 'loe': 1184, 'ct': 555, 'blunder': 379, 'rupiah': 1860, 'darah': 578, 'rp': 1850, 'dolar': 660, 'as': 148, 'fix': 757, 'tumpu': 2341, 'credible': 546, 'independent': 931, 'profokasi': 1732, 'pulik': 1755, 'paraaah': 1576, 'sorry': 2077, 'kes': 1028, 'debat': 588, 'argumen': 144, 'karya': 1001, 'wujud': 2485, 'resmi': 1823, 'maksud': 1225, 'naikin': 1370, 'ba': 176, 'nnti': 1434, 'bos': 399, 'berat': 289, 'big': 353, 'bungkam': 432, 'musuh': 1364, 'boom': 394, 'sampahberitaa': 1889, 'publikapa': 1750, 'elite': 712, 'globalsalam': 829, 'people': 1640, 'power': 1708, 'sara': 1902, 'radikalismejika': 1772, 'oknumseseorang': 1509, 'terbaikinsayaallah': 2205, 'ni': 1425, 'gitu': 826, 'positif': 1701, 'bangun': 229, 'gua': 853, 'wow': 2481, 'taex': 2127, 'ciokkalau': 499, 'thu': 2259, 'faktay': 743, 'ngarang': 1401, 'cerita': 481, 'citra': 503, 'ajja': 38, 'belagutolol': 266, 'dpeliharaitu': 675, 'makam': 1216, 'daru': 580, 'guoblokpemakamany': 859, 'fotoy': 770, 'siang': 2022, 'guoblokmedia': 858, 'kadal': 988, 'gurun': 861, 'otax': 1535, 'bosssayang': 403, 'bagusberbobot': 190, 'pantesan': 1572, 'driver': 684, 'gojek': 837, 'musibah': 1361, 'pdp': 1598, 'pdpintrospeksi': 1599, 'donk': 664, 'lagii': 1108, 'bo': 384, 'butuk': 441, 'bangat': 220, 'ojol': 1502, 'jambret': 960, 'hijau': 906, 'ratingmu': 1793, 'faedah': 738, 'pasien': 1583, 'celaka': 469, 'nguawooorhoax': 1424, 'aspal': 160, 'cnnindonesia': 523, 'surabaya': 2118, 'korban': 1058, 'laka': 1113, 'berimbangkebanyakan': 299, 'dripda': 683, 'euy': 734, 'bermutu': 327, 'ttep': 2326, 'motivasi': 1333, 'manasi': 1237, 'sangkut': 1899, 'paut': 1590, 'dirs': 642, 'sakit': 1879, 'tindak': 2272, 'post': 1703, 'alm': 73, 'sdri': 1921, 'kode': 1041, 'etik': 732, 'resah': 1821, 'rombong': 1848, 'beritakan': 311, 'buatdosanya': 420, 'ngalir': 1397, 'bicarakanselamat': 352, 'panen': 1564, 'dosa': 669, 'amatir': 82, 'sejati': 1947, 'kelola': 1014, 'sembah': 1978, 'untuk': 2405, 'sisi': 2051, 'singkron': 2045, 'sm': 2062, 'bgsd': 341, 'jelekin': 972, 'kontaminasi': 1054, 'korea': 1060, 'lihak': 1169, 'dlam': 652, 'golong': 839, 'lebai': 1144, 'wooyyy': 2480, 'lokapau': 1189, 'konten': 1055, 'lebihbaik': 1149, 'dripada': 682, 'titip': 2284, 'elit': 711, 'dajjal': 569, 'antek': 116, 'kredibelmedia': 1071, 'punyatapi': 1759, 'enyah': 727, 'kok': 1042, 'miring': 1311, 'independensi': 930, 'mampir': 1232, 'ngasi': 1403, 'prett': 1719, 'clicbait': 506, 'proposional': 1740, 'muhasabah': 1350, 'wan': 2450, 'abud': 6, 'hahaha': 873, 'nyusul': 1487, 'modarrr': 1325, 'bagusbagus': 189, 'clikbait': 511, 'verivikasi': 2432, 'kritis': 1078, 'berimbangsekarang': 300, 'koq': 1056, 'becus': 260, 'sebelahklikbaitmedia': 1930, 'nyambung': 1467, 'ama': 78, 'ratah': 1790, 'sulut': 2113, 'loadingnya': 1182, 'ram': 1782, 'rang': 1786, 'corong': 541, 'setan': 2015, 'taik': 2131, 'clik': 510, 'tiru': 2283, 'aduh': 20, 'ya': 2487, 'lhoooo': 1166, 'pola': 1690, 'mendeskriditkan': 1297, 'subjektif': 2101, 'tular': 2338, 'rugi': 1854, 'pemerintahsekarang': 1618, 'respect': 1824, 'sampahgoblok': 1890, 'ngapain': 1400, 'anti': 119, 'fake': 740, 'goblokmacem': 835, 'ambyar': 86, 'kowe': 1065, 'ahmedia': 30, 'sisip': 2052, 'puji': 1753, 'halus': 880, 'bye': 445, 'referensi': 1803, 'teruuus': 2249, 'ancuuuur': 96, 'adu': 18, 'domba': 661, 'ngasal': 1402, 'uda': 2370, 'revisi': 1832, 'original': 1532, 'nada': 1368, 'ah': 28, 'pimpin': 1671, 'mata': 1283, 'duit': 691, 'tlagi': 2287, 'reporterproduser': 1818, 'ndak': 1376, 'bumbu': 431, 'objective': 1489, 'dibanyakin': 619, 'kolom': 1043, 'anekdot': 103, 'murah': 1359, 'sbg': 1913, 'kridiber': 1074, 'kalang': 996, 'lalu': 1115, 'suhu': 2105, 'sdr': 1920, 'rongrong': 1849, 'gercep': 815, 'kalah': 995, 'sii': 2031, 'kritisi': 1079, 'ngaur': 1406, 'mls': 1314, 'jendela': 975, 'sains': 1872, 'tekhnologibisnis': 2173, 'pariwisatapolitik': 1579, 'budaya': 422, 'onar': 1517, 'bro': 411, 'kg': 1032, 'copy': 539, 'paste': 1586, 'bijak': 354, 'sa': 1866, 'ber': 283, 'telah': 2176, 'say': 1908, 'linknya': 1175, 'pemerintahbila': 1616, 'penulismaka': 1636, 'am': 77, 'dsb': 686, 'indonesiaberita': 935, 'netralsering': 1389, 'netralitu': 1387, 'rujuk': 1855, 'semuaok': 1985, 'cnnpaling': 526, 'tercepat': 2209, 'orientasi': 1531, 'ciri': 502, 'munafik': 1355, 'kucing': 1089, 'memiles': 1294, 'tangkap': 2152, 'liput': 1176, 'baperan': 239, 'yaa': 2488, 'terverifikasitolong': 2251, 'berimbangaktualtajam': 297, 'go': 832, 'bernas': 330, 'cartoon': 459, 'network': 1390, 'minat': 1308, 'nyalahin': 1464, 'lenceng': 1158, 'rel': 1808, 'grup': 851, 'bina': 359, 'produser': 1727, 'sekalidengan': 1950, 'dpat': 674, 'field': 752, 'producernya': 1726, 'bagustapi': 198, 'check': 491, 'balance': 214, 'wajar': 2448, 'maksimal': 1224, 'rajin': 1779, 'proyek': 1746, 'ngejelekin': 1413, 'wardhani': 2453, 'star': 2092, 'benernya': 281, 'yaaa': 2489, 'clickbaitnya': 509, 'yow': 2498, 'maen': 1208, 'muak': 1341, 'wahana': 2447, 'sebelahjudul': 1929, 'seksual': 1958, 'pagi': 1548, 'udara': 2372, 'sejuk': 1948, 'hal': 877, 'analogi': 95, 'obyektivitas': 1497, 'indenpenden': 928, 'tendesius': 2192, 'ngawurga': 1408, 'onlyngak': 1520, 'babar': 177, 'blas': 374, 'logic': 1186, 'srt': 2086, 'mula': 1351, 'lamakurang': 1116, 'uapdet': 2365, 'okey': 1506, 'emis': 719, 'caci': 448, 'maki': 1220, 'pantasmohon': 1570, 'posting': 1704, 'bagusssaya': 197, 'sukasaya': 2109, 'masalah': 1271, 'diterkini': 649, 'hujat': 918, 'bagusbye': 193, 'damai': 572, 'makmur': 1222, 'ketik': 1031, 'lembaga': 1156, 'ungkap': 2394, 'tvberitaa': 2356, 'tangkal': 2151, 'marak': 1265, 'benarbenar': 274, 'utuh': 2425, 'gadget': 784, 'updat': 2409, 'mang': 1242, 'bijaksana': 355, 'nyinyir': 1484, 'dear': 587, 'crash': 545, 'rencana': 1812, 'tingkstksn': 2279, 'datenya': 585, 'alpikasih': 75, 'sandi': 1894, 'nomor': 1438, 'resfon': 1822, 'alpikasi': 74, 'tujuanx': 2334, 'boros': 398, 'dimasa': 632, 'psbb': 1747, 'bagussaya': 195, 'tnpa': 2289, 'blur': 380, 'alhamdulila': 64, 'sangt': 1900, 'butu': 439, 'adax': 12, 'trbaik': 2313, 'mmberikan': 1316, 'alhamdulilllah': 66, 'updte': 2412, 'cebong': 464, 'buzzerp': 443, 'matimatian': 1286, 'paduka': 1546, 'junjung': 983, 'dilepehin': 630, 'sarat': 1905, 'sekalu': 1952, 'tipis': 2281, 'one': 1518, 'luarbiasa': 1195, 'positip': 1702, 'sigap': 2029, 'bagusberita': 192, 'kumpranan': 1094, 'bnaget': 381, 'da': 565, 'panya': 1573, 'tanpa': 2153, 'binggungsuka': 361, 'bedabahasanya': 262, 'lebaybaru': 1146, 'utang': 2424, 'pemdaseolah': 1614, 'pusat': 1761, 'pinjam': 1673, 'uanginikan': 2364, 'stop': 2096, 'man': 1235, 'paat': 1540, 'pengalan': 1625, 'pri': 1720, 'badign': 184, 'penging': 1631, 'tntg': 2290, 'hasut': 898, 'surat': 2119, 'lurus': 1203, 'tempat': 2184, 'corp': 542, 'dianalisa': 614, 'plitir': 1681, 'plintir': 1680, 'tipu': 2282, 'tobat': 2292, 'ajal': 35, 'neraka': 1382, 'ganteng': 796, 'gagah': 786, 'macho': 1207, 'bicara': 351, 'doyan': 673, 'ngerasa': 1416, 'krisis': 1076, 'sperti': 2081, 'profikator': 1730, 'publikasi': 1751, 'unisnstal': 2399, 'kpd': 1066, 'copot': 538, 'hambat': 881, 'pembangunanparah': 1607, 'oknum': 1508, 'rusak': 1861, 'pemberitaann': 1610, 'ajaa': 33, 'murni': 1360, 'condong': 533, 'bayang': 253, 'sblmnya': 1915, 'youtuber': 2497, 'pah': 1549, 'nurani': 1459, 'pantas': 1569, 'padu': 1545, 'wabah': 2446, 'receh': 1800, 'biadabbbbb': 346, 'lek': 1153, 'gawe': 803, 'seng': 1990, 'ojo': 1501, 'nyebar': 1479, 'tok': 2294, 'weki': 2463, 'sajiakan': 1878, 'pemerintahnyainformasi': 1617, 'kreatifitasmu': 1069, 'bikin': 356, 'ralat': 1781, 'suruh': 2120, 'gelisah': 808, 'status': 2095, 'fb': 751, 'abai': 2, 'sebagiankepotong': 1924, 'panjang': 1567, 'nub': 1458, 'asaltidak': 151, 'luarnegeri': 1196, 'obyektifitas': 1495, 'analisis': 94, 'pengetahuanmas': 1628, 'penpbg': 1633, 'mantapberkualitas': 1253, 'bernilai': 331, 'tandai': 2145, 'nonto': 1441, 'tvsaya': 2360, 'praktise': 1712, 'objetif': 1493, 'bilah': 357, 'mantaaap': 1246, 'ttp': 2329, 'lagitks': 1110, 'sekalisemoga': 1951, 'cool': 537, 'tunduk': 2344, 'tekan': 2171, 'entar': 726, 'sangka': 1898, 'obat': 1488, 'obyektip': 1496, 'agak': 24, 'lelet': 1154, 'nyampainya': 1470, 'tar': 2157, 'time': 2270, 'tksh': 2286, 'profil': 1731, 'kotak': 1064, 'capai': 454, 'objek': 1490, 'alih': 69, 'sngat': 2070, 'dia': 613, 'eropa': 729, 'dampak': 574, 'trimakasih': 2316, 'alhamdulillah': 65, 'hasil': 897, 'pencil': 1622, 'kendala': 1021, 'pancar': 1562, 'letoy': 1161, 'mahal': 1210, 'livestream': 1178, 'jujur': 982, 'foud': 771, 'dampai': 573, 'the': 2258, 'bestlah': 337, 'stabil': 2088, 'screen': 1916, 'nyala': 1463, 'floating': 760, 'ambang': 83, 'berkwalitas': 317, 'inovasi': 942, 'aplikasisi': 137, 'upload': 2413, 'dishare': 644, 'terkinisaya': 2232, 'normalnormal': 1445, 'sinijangan': 2046, 'buludalam': 429, 'pemberitaankatakan': 1609, 'handphone': 885, 'rada': 1769, 'usia': 2421, 'renung': 1814, 'enggan': 724, 'pesta': 1664, 'salahsatu': 1881, 'adudomba': 19, 'masak': 1269, 'gila': 822, 'lag': 1106, 'bsa': 417, 'apdate': 126, 'forced': 765, 'closed': 513, 'baharu': 204, 'mesti': 1304, 'sebelahkurang': 1931, 'terlambatsaya': 2235, 'duluan': 694, 'aktualmenginspirasienak': 54, 'dibacapokoknya': 617, 'signal': 2030, 'telahbanyak': 2177, 'cirebontidak': 501, 'koneksi': 1050, 'penjelasanmya': 1632, 'saatini': 1868, 'mantapmoga': 1255, 'plagi': 1677, 'upto': 2415, 'uptadate': 2414, 'okk': 1507, 'aplikasinya': 136, 'aplikas': 131, 'putih': 1764, 'krenberita': 1073, 'berkhalitas': 316, 'trpercaya': 2322, 'mndapatkan': 1319, 'trkini': 2318, 'diselasela': 643, 'umum': 2388, 'tarkam': 2161, 'blm': 376, 'ko': 1040, 'penasaran': 1621, 'menang': 1295, 'mantulberitaa': 1261, 'fiturfitur': 756, 'efektif': 704, 'depa': 599, 'pengalmn': 1626, 'cni': 518, 'kup': 1099, 'mmberi': 1315, 'masayaarkat': 1274, 'bacem': 182, 'kpop': 1068, 'gidle': 820, 'wonho': 2479, 'lebihlebihkan': 1150, 'bolak': 391, 'belumterdaftar': 271, 'akhlak': 45, 'mndalm': 1318, 'terdepan': 2210, 'pantang': 1568, 'badai': 183, 'halang': 879, 'desa': 602, 'cnnn': 525, 'mantul': 1260, 'rate': 1791, 'bermusuhaan': 326, 'sensasi': 1993, 'sj': 2059, 'bersiapsiap': 333, 'susup': 2125, 'radikalisme': 1771, 'wess': 2465, 'bintag': 363, 'mutlak': 1365, 'sang': 1895, 'gemar': 809, 'tusuk': 2353, 'tol': 2297, 'me': 1288, 'niat': 1426, 'nyerang': 1482, 'lambe': 1120, 'berimbangjangan': 298, 'sukasekarang': 2110, 'terjangkittttt': 2218, 'bagusberimbangjd': 191, 'seakanakan': 1922, 'wiranto': 2471, 'dendam': 594, 'tanah': 2144, 'gusur': 862, 'berlipatlipat': 320, 'tanya': 2154, 'fantastis': 747, 'cenna': 472, 'akhirat': 44, 'simbol': 2039, 'gih': 821, 'duduk': 689, 'bareng': 243, 'teroris': 2238, 'lahan': 1111, 'ra': 1767, 'nyambungserta': 1468, 'wirantosangat': 2472, 'terorist': 2239, 'biat': 349, 'talib': 2136, 'manusia': 1262, 'usak': 2419, 'moral': 1332, 'ksh': 1081, 'mas': 1268, 'pakde': 1554, 'ala': 59, 'to': 2291, 'ky': 1103, 'perinci': 1651, 'far': 748, 'pelopor': 1605, 'massa': 1277, 'bermanpaat': 324, 'mantsaap': 1259, 'mantapterpercsayaa': 1257, 'terapdate': 2202, 'tam': 2137, 'bah': 202, 'suguh': 2104, 'teruodate': 2244, 'pemberitaanya': 1611, 'cerdascepatakurat': 480, 'sistem': 2053, 'fressh': 775, 'ssuai': 2087, 'tersetting': 2243, 'variasi': 2430, 'beritatidak': 313, 'hormat': 915, 'presiden': 1716, 'palsu': 1560, 'timbul': 2269, 'cebongers': 465, 'ditrima': 650, 'medsos': 1290, 'menarik': 1296, 'mantapbb': 1252, 'gali': 791, 'ceritanyaselalu': 482, 'nenyudutkan': 1381, 'kukalau': 1092, 'leceh': 1151, 'mutung': 1367, 'ngabisi': 1394, 'dhe': 611, 'not': 1446, 'president': 1717, 'berpihak': 332, 'amat': 81, 'sebelah': 1928, 'hadiah': 869, 'founder': 772, 'ngampret': 1399, 'ngatain': 1405, 'kutik': 1101, 'bakar': 213, 'jos': 979, 'trima': 2315, 'moto': 1334, 'pertanggungjawabkan': 1662, 'trrkini': 2323, 'bagustdk': 199, 'fokus': 761, 'sebal': 1925, 'perbaikin': 1644, 'biaya': 350, 'saat': 1867, 'deras': 601, 'donlambat': 666, 'drastis': 680, 'sering': 2007, 'betul': 339, 'hanya': 888, 'selam': 1962, 'racun': 1768, 'friendly': 776, 'miskin': 1312, 'sepet': 2002, 'tempel': 2186, 'ads': 17, 'salut': 1884, 'terkinibobot': 2225, 'reporter': 1817, 'atual': 166, 'mantaf': 1249, 'masukpayah': 1281, 'opsi': 1527, 'sdcard': 1919, 'datar': 583, 'sempurna': 1984, 'group': 850, 'bagusterkini': 200, 'terkinipercaya': 2230, 'terkinian': 2224, 'vivo': 2443, 'tenang': 2190, 'rpihak': 1851, 'dtebak': 688, 'alinea': 70, 'via': 2436, 'android': 100, 'pur': 1760, 'tni': 2288, 'staf': 2089, 'gub': 854, 'selusur': 1975, 'bermanfaatjelass': 322, 'channel': 490, 'temuin': 2189, 'gpbola': 846, 'celas': 470, 'ahh': 29, 'ntr': 1455, 'lagiii': 1109, 'out': 1538, 'langgan': 1123, 'selulu': 1974, 'sipp': 2049, 'mar': 1264, 'sensitip': 1995, 'roki': 1846, 'content': 535, 'wlo': 2476, 'baur': 250, 'sovenir': 2079, 'masih': 1275, 'sukabangat': 2108, 'selera': 1968, 'diperlukanterutama': 639, 'otentik': 1536, 'wowo': 2482, 'proses': 1741, 'mumpuni': 1354, 'widodo': 2469, 'neutral': 1391, 'kuda': 1090, 'calon': 450, 'otak': 1534, 'beritaberita': 305, 'ojek': 1499, 'naik': 1369, 'tarif': 2159, 'tebel': 2170, 'rasa': 1788, 'payahnaik': 1594, 'dipisahin': 640, 'woy': 2483, 'framming': 774, 'gara': 799, 'asap': 152, 'rasain': 1789, 'modal': 1324, 'survey': 2121, 'png': 1682, 'pnyebar': 1684, 'ttng': 2328, 'sok': 2074, 'cermat': 483, 'usul': 2422, 'mapan': 1263, 'perihal': 1650, 'aplikator': 139, 'target': 2158, 'tindas': 2273, 'sowak': 2080, 'beritainaplikasi': 309, 'bermutumsih': 329, 'tebal': 2168, 'bermutumasih': 328, 'campur': 451, 'nggk': 1420, 'bagusterutama': 201, 'politiksemoga': 1693, 'terkiniindependen': 2228, 'benarsalam': 276, 'mania': 1244, 'antero': 118, 'pantau': 1571, 'tamba': 2138, 'perbarui': 1646, 'pilpres': 1670, 'gelar': 807, 'motogp': 1335, 'aksis': 49, 'cegah': 467, 'tidur': 2265, 'tks': 2285, 'runut': 1859, 'dprt': 677, 'runtut': 1858, 'buangat': 418, 'annoying': 115, 'nyangka': 1472, 'tribunnews': 2314, 'baikok': 210, 'lanjutken': 1127, 'frontal': 777, 'embel': 717, 'ngedoktrin': 1410, 'woyyyy': 2484, 'prabowo': 1709, 'aaaaminnn': 0, 'rocky': 1845, 'gerung': 816, 'seperti': 2001, 'paslon': 1584, 'capres': 455, 'unik': 2395, 'log': 1185, 'tonjol': 2300, 'sambut': 1887, 'pegang': 1602, 'dtanggapi': 687, 'brsifat': 414, 'sentimen': 1996, 'fanatismeke': 746, 'cnndgn': 520, 'sensasional': 1994, 'sajaseperti': 1876, 'politikekonomohukum': 1692, 'hamsajattp': 883, 'tembak': 2183, 'spesufic': 2083, 'lapar': 1129, 'afrika': 22, 'masyarakat': 1282, 'pdhal': 1597, 'pke': 1676, 'ksih': 1082, 'gtu': 852, 'sprt': 2085, 'nyasaya': 1476, 'playstore': 1679, 'ehh': 707, 'enggk': 725, 'uodatenya': 2407, 'potingan': 1705, 'beritanta': 312, 'barutksh': 245, 'favourit': 750, 'lh': 1164, 'lbih': 1143, 'hebat': 901, 'serap': 2005, 'pahamisangat': 1552, 'tidam': 2264, 'alhsmdulillah': 67, 'tinggatkan': 2276, 'beretita': 291, 'ses': 2012, 'yess': 2494, 'ngopi': 1423, 'bergunamemberikan': 293, 'lamaterlalu': 1118, 'distribusi': 647, 'asikkk': 157, 'aplikasnya': 138, 'ukuran': 2382, 'persepktif': 1660, 'validasi': 2429, 'cepatmantap': 476, 'doank': 658, 'ug': 2374, 'rame': 1784, 'reuni': 1830, 'saja': 1873, 'hadohhhh': 871, 'diilangin': 627, 'donkk': 665, 'masakkk': 1270, 'boring': 397, 'rezim': 1834, 'urut': 2417, 'mngkn': 1321, 'station': 2094, 'garap': 800, 'tenya': 2199, 'umat': 2387, 'tahana': 2129, 'politisasi': 1694, 'hackers': 868, 'mantaplikasi': 1254, 'milu': 1306, 'monas': 1330, 'drone': 685, 'luber': 1198, 'ribu': 1838, 'bintangso': 365, 'lets': 1162, 'see': 1940, 'initapi': 941, 'aplikasilikasi': 134, 'direkpmendasikan': 641, 'sejarah': 1946, 'teroercaya': 2236, 'ud': 2369, 'ntar': 1453, 'beritahu': 308, 'asayaik': 153, 'transparansertakan': 2311, 'variatif': 2431, 'test': 2252, 'bru': 415, 'seri': 2006, 'nol': 1437, 'standar': 2090, 'geng': 811, 'gaman': 792, 'segar': 1941, 'unduhnya': 2390, 'aplikasilikasinya': 135, 'serta': 2010, 'masiih': 1276, 'tampilanya': 2143, 'bermanpaaat': 323, 'page': 1547, 'nice': 1427, 'cancel': 452, 'tinjau': 2280, 'terkiniini': 2229, 'siapapunindependen': 2024, 'harga': 893, 'ridi': 1840, 'rumit': 1857, 'best': 336, 'coz': 544, 'tyg': 2361, 'mnc': 1317, 'now': 1452, 'gun': 856, 'terbaikjadi': 2206, 'soal': 2073, 'seberang': 1934, 'akanmemuat': 42, 'mndapatkn': 1320, 'ccn': 463, 'nihil': 1428, 'netralitas': 1386, 'renyah': 1815}\n"
     ]
    }
   ],
   "source": [
    "print(tfidf_vect.vocabulary_)"
   ]
  },
  {
   "cell_type": "code",
   "execution_count": 14,
   "id": "cbd41290",
   "metadata": {},
   "outputs": [],
   "source": [
    "#Save model TFIDF\n",
    "import pickle\n",
    "pickle.dump(tfidf_vect.vocabulary_,open(\"TFIDF-sentimen.pkl\",\"wb\")) #simpan ke pickle"
   ]
  },
  {
   "cell_type": "code",
   "execution_count": 15,
   "id": "6dca7d1d",
   "metadata": {},
   "outputs": [
    {
     "data": {
      "text/html": [
       "<style>#sk-container-id-2 {color: black;background-color: white;}#sk-container-id-2 pre{padding: 0;}#sk-container-id-2 div.sk-toggleable {background-color: white;}#sk-container-id-2 label.sk-toggleable__label {cursor: pointer;display: block;width: 100%;margin-bottom: 0;padding: 0.3em;box-sizing: border-box;text-align: center;}#sk-container-id-2 label.sk-toggleable__label-arrow:before {content: \"▸\";float: left;margin-right: 0.25em;color: #696969;}#sk-container-id-2 label.sk-toggleable__label-arrow:hover:before {color: black;}#sk-container-id-2 div.sk-estimator:hover label.sk-toggleable__label-arrow:before {color: black;}#sk-container-id-2 div.sk-toggleable__content {max-height: 0;max-width: 0;overflow: hidden;text-align: left;background-color: #f0f8ff;}#sk-container-id-2 div.sk-toggleable__content pre {margin: 0.2em;color: black;border-radius: 0.25em;background-color: #f0f8ff;}#sk-container-id-2 input.sk-toggleable__control:checked~div.sk-toggleable__content {max-height: 200px;max-width: 100%;overflow: auto;}#sk-container-id-2 input.sk-toggleable__control:checked~label.sk-toggleable__label-arrow:before {content: \"▾\";}#sk-container-id-2 div.sk-estimator input.sk-toggleable__control:checked~label.sk-toggleable__label {background-color: #d4ebff;}#sk-container-id-2 div.sk-label input.sk-toggleable__control:checked~label.sk-toggleable__label {background-color: #d4ebff;}#sk-container-id-2 input.sk-hidden--visually {border: 0;clip: rect(1px 1px 1px 1px);clip: rect(1px, 1px, 1px, 1px);height: 1px;margin: -1px;overflow: hidden;padding: 0;position: absolute;width: 1px;}#sk-container-id-2 div.sk-estimator {font-family: monospace;background-color: #f0f8ff;border: 1px dotted black;border-radius: 0.25em;box-sizing: border-box;margin-bottom: 0.5em;}#sk-container-id-2 div.sk-estimator:hover {background-color: #d4ebff;}#sk-container-id-2 div.sk-parallel-item::after {content: \"\";width: 100%;border-bottom: 1px solid gray;flex-grow: 1;}#sk-container-id-2 div.sk-label:hover label.sk-toggleable__label {background-color: #d4ebff;}#sk-container-id-2 div.sk-serial::before {content: \"\";position: absolute;border-left: 1px solid gray;box-sizing: border-box;top: 0;bottom: 0;left: 50%;z-index: 0;}#sk-container-id-2 div.sk-serial {display: flex;flex-direction: column;align-items: center;background-color: white;padding-right: 0.2em;padding-left: 0.2em;position: relative;}#sk-container-id-2 div.sk-item {position: relative;z-index: 1;}#sk-container-id-2 div.sk-parallel {display: flex;align-items: stretch;justify-content: center;background-color: white;position: relative;}#sk-container-id-2 div.sk-item::before, #sk-container-id-2 div.sk-parallel-item::before {content: \"\";position: absolute;border-left: 1px solid gray;box-sizing: border-box;top: 0;bottom: 0;left: 50%;z-index: -1;}#sk-container-id-2 div.sk-parallel-item {display: flex;flex-direction: column;z-index: 1;position: relative;background-color: white;}#sk-container-id-2 div.sk-parallel-item:first-child::after {align-self: flex-end;width: 50%;}#sk-container-id-2 div.sk-parallel-item:last-child::after {align-self: flex-start;width: 50%;}#sk-container-id-2 div.sk-parallel-item:only-child::after {width: 0;}#sk-container-id-2 div.sk-dashed-wrapped {border: 1px dashed gray;margin: 0 0.4em 0.5em 0.4em;box-sizing: border-box;padding-bottom: 0.4em;background-color: white;}#sk-container-id-2 div.sk-label label {font-family: monospace;font-weight: bold;display: inline-block;line-height: 1.2em;}#sk-container-id-2 div.sk-label-container {text-align: center;}#sk-container-id-2 div.sk-container {/* jupyter's `normalize.less` sets `[hidden] { display: none; }` but bootstrap.min.css set `[hidden] { display: none !important; }` so we also need the `!important` here to be able to override the default hidden behavior on the sphinx rendered scikit-learn.org. See: https://github.com/scikit-learn/scikit-learn/issues/21755 */display: inline-block !important;position: relative;}#sk-container-id-2 div.sk-text-repr-fallback {display: none;}</style><div id=\"sk-container-id-2\" class=\"sk-top-container\"><div class=\"sk-text-repr-fallback\"><pre>SVC(kernel=&#x27;linear&#x27;)</pre><b>In a Jupyter environment, please rerun this cell to show the HTML representation or trust the notebook. <br />On GitHub, the HTML representation is unable to render, please try loading this page with nbviewer.org.</b></div><div class=\"sk-container\" hidden><div class=\"sk-item\"><div class=\"sk-estimator sk-toggleable\"><input class=\"sk-toggleable__control sk-hidden--visually\" id=\"sk-estimator-id-2\" type=\"checkbox\" checked><label for=\"sk-estimator-id-2\" class=\"sk-toggleable__label sk-toggleable__label-arrow\">SVC</label><div class=\"sk-toggleable__content\"><pre>SVC(kernel=&#x27;linear&#x27;)</pre></div></div></div></div></div>"
      ],
      "text/plain": [
       "SVC(kernel='linear')"
      ]
     },
     "execution_count": 15,
     "metadata": {},
     "output_type": "execute_result"
    }
   ],
   "source": [
    "from sklearn.svm import SVC\n",
    "\n",
    "model = SVC(kernel='linear') #menggunakan kernel linear\n",
    "model.fit(train_X_tfidf,train_Y)"
   ]
  },
  {
   "cell_type": "code",
   "execution_count": 16,
   "id": "1dabd4bf",
   "metadata": {},
   "outputs": [],
   "source": [
    "#proses pengujian data\n",
    "\n",
    "from sklearn.metrics import accuracy_score\n",
    "predictions_SVM = model.predict(test_X_tfidf)\n",
    "test_prediction = pd.DataFrame()\n",
    "test_prediction['opini'] = test_X\n",
    "test_prediction['label'] = predictions_SVM\n",
    "SVM_accuracy = accuracy_score(predictions_SVM, test_Y)*100\n",
    "SVM_accuracy = round(SVM_accuracy,1)"
   ]
  },
  {
   "cell_type": "code",
   "execution_count": 17,
   "id": "fd84d70e",
   "metadata": {},
   "outputs": [
    {
     "data": {
      "text/html": [
       "<div>\n",
       "<style scoped>\n",
       "    .dataframe tbody tr th:only-of-type {\n",
       "        vertical-align: middle;\n",
       "    }\n",
       "\n",
       "    .dataframe tbody tr th {\n",
       "        vertical-align: top;\n",
       "    }\n",
       "\n",
       "    .dataframe thead th {\n",
       "        text-align: right;\n",
       "    }\n",
       "</style>\n",
       "<table border=\"1\" class=\"dataframe\">\n",
       "  <thead>\n",
       "    <tr style=\"text-align: right;\">\n",
       "      <th></th>\n",
       "      <th>opini</th>\n",
       "      <th>label</th>\n",
       "    </tr>\n",
       "  </thead>\n",
       "  <tbody>\n",
       "    <tr>\n",
       "      <th>53</th>\n",
       "      <td>cnn berita tarik terkini sayang gabung allo at...</td>\n",
       "      <td>positif</td>\n",
       "    </tr>\n",
       "    <tr>\n",
       "      <th>2391</th>\n",
       "      <td>lumayan berita terkini</td>\n",
       "      <td>positif</td>\n",
       "    </tr>\n",
       "    <tr>\n",
       "      <th>2310</th>\n",
       "      <td>berita slalu terkini</td>\n",
       "      <td>positif</td>\n",
       "    </tr>\n",
       "    <tr>\n",
       "      <th>728</th>\n",
       "      <td>judul berita sudut binance bagi investasi bodong</td>\n",
       "      <td>negatif</td>\n",
       "    </tr>\n",
       "    <tr>\n",
       "      <th>850</th>\n",
       "      <td>moga depan saji berita indonesia berimbang leb...</td>\n",
       "      <td>positif</td>\n",
       "    </tr>\n",
       "    <tr>\n",
       "      <th>...</th>\n",
       "      <td>...</td>\n",
       "      <td>...</td>\n",
       "    </tr>\n",
       "    <tr>\n",
       "      <th>1810</th>\n",
       "      <td>berita akurat</td>\n",
       "      <td>positif</td>\n",
       "    </tr>\n",
       "    <tr>\n",
       "      <th>2330</th>\n",
       "      <td>terkini lengkap kabar</td>\n",
       "      <td>positif</td>\n",
       "    </tr>\n",
       "    <tr>\n",
       "      <th>684</th>\n",
       "      <td>judul berita tentang jemaah haji malaysia sesa...</td>\n",
       "      <td>positif</td>\n",
       "    </tr>\n",
       "    <tr>\n",
       "      <th>1674</th>\n",
       "      <td>bagus slalu terkini</td>\n",
       "      <td>positif</td>\n",
       "    </tr>\n",
       "    <tr>\n",
       "      <th>2075</th>\n",
       "      <td>berita calon presiden no jokowi bagus bagus pe...</td>\n",
       "      <td>positif</td>\n",
       "    </tr>\n",
       "  </tbody>\n",
       "</table>\n",
       "<p>500 rows × 2 columns</p>\n",
       "</div>"
      ],
      "text/plain": [
       "                                                  opini    label\n",
       "53    cnn berita tarik terkini sayang gabung allo at...  positif\n",
       "2391                             lumayan berita terkini  positif\n",
       "2310                               berita slalu terkini  positif\n",
       "728    judul berita sudut binance bagi investasi bodong  negatif\n",
       "850   moga depan saji berita indonesia berimbang leb...  positif\n",
       "...                                                 ...      ...\n",
       "1810                                      berita akurat  positif\n",
       "2330                              terkini lengkap kabar  positif\n",
       "684   judul berita tentang jemaah haji malaysia sesa...  positif\n",
       "1674                                bagus slalu terkini  positif\n",
       "2075  berita calon presiden no jokowi bagus bagus pe...  positif\n",
       "\n",
       "[500 rows x 2 columns]"
      ]
     },
     "execution_count": 17,
     "metadata": {},
     "output_type": "execute_result"
    }
   ],
   "source": [
    "test_prediction"
   ]
  },
  {
   "cell_type": "code",
   "execution_count": 18,
   "id": "3b1bd1b4",
   "metadata": {},
   "outputs": [
    {
     "data": {
      "text/plain": [
       "87.4"
      ]
     },
     "execution_count": 18,
     "metadata": {},
     "output_type": "execute_result"
    }
   ],
   "source": [
    "SVM_accuracy #hasil akurasi SVM"
   ]
  },
  {
   "cell_type": "code",
   "execution_count": 19,
   "id": "5525788d",
   "metadata": {},
   "outputs": [
    {
     "name": "stdout",
     "output_type": "stream",
     "text": [
      "\n",
      " Berikut hasil akurasi:\n",
      "              precision    recall  f1-score   support\n",
      "\n",
      "     negatif       0.63      0.39      0.48        75\n",
      "     positif       0.90      0.96      0.93       425\n",
      "\n",
      "    accuracy                           0.87       500\n",
      "   macro avg       0.76      0.67      0.70       500\n",
      "weighted avg       0.86      0.87      0.86       500\n",
      "\n"
     ]
    }
   ],
   "source": [
    "# Accuracy, Precision, Recall, f1-score\n",
    "\n",
    "from sklearn.metrics import classification_report\n",
    "\n",
    "print (\"\\n Berikut hasil akurasi:\") \n",
    "print (classification_report(test_Y, predictions_SVM))"
   ]
  },
  {
   "cell_type": "code",
   "execution_count": 20,
   "id": "b29b9097",
   "metadata": {},
   "outputs": [],
   "source": [
    "# save the model to disk\n",
    "import pickle\n",
    "filename = 'SVMLinierSentimen_model.sav'\n",
    "pickle.dump(model, open(filename, 'wb'))"
   ]
  },
  {
   "cell_type": "markdown",
   "id": "a6f94480",
   "metadata": {},
   "source": [
    "# Load model"
   ]
  },
  {
   "cell_type": "code",
   "execution_count": 21,
   "id": "7ac01e70",
   "metadata": {},
   "outputs": [],
   "source": [
    "import string\n",
    "import Sastrawi\n",
    "from Sastrawi.Stemmer.StemmerFactory import StemmerFactory\n",
    "from nltk.tokenize import word_tokenize\n",
    "from nltk.corpus import stopwords\n",
    "from Sastrawi.StopWordRemover.StopWordRemoverFactory import StopWordRemoverFactory"
   ]
  },
  {
   "cell_type": "code",
   "execution_count": 22,
   "id": "6fc2c426",
   "metadata": {},
   "outputs": [
    {
     "name": "stdout",
     "output_type": "stream",
     "text": [
      "beritanya banyak yang bohong sih\n"
     ]
    }
   ],
   "source": [
    "kalimat = \"beritanya banyak yang bohong sih\" \n",
    "lower_case = kalimat.lower()\n",
    "print (lower_case)"
   ]
  },
  {
   "cell_type": "code",
   "execution_count": 23,
   "id": "f3cf3d01",
   "metadata": {},
   "outputs": [
    {
     "name": "stdout",
     "output_type": "stream",
     "text": [
      "beritanya banyak yang bohong sih\n"
     ]
    }
   ],
   "source": [
    "punctuation = lower_case.translate(str.maketrans('','',string.punctuation)).strip()\n",
    "print(punctuation)"
   ]
  },
  {
   "cell_type": "code",
   "execution_count": 24,
   "id": "959ad4ac",
   "metadata": {},
   "outputs": [
    {
     "name": "stdout",
     "output_type": "stream",
     "text": [
      "['beritanya', 'banyak', 'yang', 'bohong', 'sih']\n"
     ]
    }
   ],
   "source": [
    "tokenize = word_tokenize(punctuation)\n",
    "print(tokenize)"
   ]
  },
  {
   "cell_type": "code",
   "execution_count": 25,
   "id": "941b0ba7",
   "metadata": {},
   "outputs": [
    {
     "name": "stdout",
     "output_type": "stream",
     "text": [
      "['beritanya', 'banyak', 'bohong', 'sih']\n"
     ]
    }
   ],
   "source": [
    "factory = StopWordRemoverFactory()\n",
    "stopword = factory.create_stop_word_remover()\n",
    "hasil_stopword = []\n",
    "for i in tokenize:\n",
    "    word = stopword.remove(i)\n",
    "    if word !='':\n",
    "        hasil_stopword.append(word)\n",
    "print(hasil_stopword)"
   ]
  },
  {
   "cell_type": "code",
   "execution_count": 26,
   "id": "975f6deb",
   "metadata": {},
   "outputs": [
    {
     "name": "stdout",
     "output_type": "stream",
     "text": [
      "['berita', 'banyak', 'bohong', 'sih']\n"
     ]
    }
   ],
   "source": [
    "factory = StemmerFactory()\n",
    "stemmer = factory.create_stemmer()  \n",
    "hasil_stemming = [] \n",
    "for i in hasil_stopword:\n",
    "    word = stemmer.stem(i)\n",
    "    if word !='':\n",
    "        hasil_stemming.append(word) \n",
    "print(hasil_stemming)"
   ]
  },
  {
   "cell_type": "code",
   "execution_count": 27,
   "id": "0f69226f",
   "metadata": {},
   "outputs": [
    {
     "name": "stdout",
     "output_type": "stream",
     "text": [
      "['sih bohong banyak berita']\n"
     ]
    }
   ],
   "source": [
    "teks_ulasan=[' '.join(reversed(hasil_stemming))]\n",
    "print(teks_ulasan)"
   ]
  },
  {
   "cell_type": "code",
   "execution_count": 28,
   "id": "77f7bdcb",
   "metadata": {},
   "outputs": [],
   "source": [
    "#Load TFIDF model\n",
    "import pickle\n",
    "from sklearn.feature_extraction.text import TfidfTransformer, CountVectorizer\n",
    "transformer = TfidfTransformer()\n",
    "loaded_vec = CountVectorizer(decode_error=\"replace\",vocabulary=pickle.load(open(\"TFIDF-sentimen.pkl\", \"rb\")))\n",
    "tfidf = transformer.fit_transform(loaded_vec.fit_transform(teks_ulasan))"
   ]
  },
  {
   "cell_type": "code",
   "execution_count": 29,
   "id": "6793ed08",
   "metadata": {},
   "outputs": [
    {
     "name": "stdout",
     "output_type": "stream",
     "text": [
      "  (0, 389)\t0.5773502691896258\n",
      "  (0, 301)\t0.5773502691896258\n",
      "  (0, 235)\t0.5773502691896258\n"
     ]
    }
   ],
   "source": [
    "print (tfidf)"
   ]
  },
  {
   "cell_type": "code",
   "execution_count": 30,
   "id": "76472a51",
   "metadata": {},
   "outputs": [],
   "source": [
    "loaded_SVM_model = pickle.load(open('SVMLinierSentimen_model.sav', 'rb'))"
   ]
  },
  {
   "cell_type": "code",
   "execution_count": 31,
   "id": "8f4e30ef",
   "metadata": {},
   "outputs": [
    {
     "name": "stdout",
     "output_type": "stream",
     "text": [
      "SVC(kernel='linear')\n"
     ]
    }
   ],
   "source": [
    "print (loaded_SVM_model)"
   ]
  },
  {
   "cell_type": "code",
   "execution_count": 32,
   "id": "ef463d0b",
   "metadata": {},
   "outputs": [
    {
     "data": {
      "text/plain": [
       "array(['negatif'], dtype=object)"
      ]
     },
     "execution_count": 32,
     "metadata": {},
     "output_type": "execute_result"
    }
   ],
   "source": [
    "loaded_SVM_model.predict(tfidf) #hasil prediksi"
   ]
  },
  {
   "cell_type": "code",
   "execution_count": null,
   "id": "39d28e17",
   "metadata": {},
   "outputs": [],
   "source": []
  }
 ],
 "metadata": {
  "kernelspec": {
   "display_name": "Python 3 (ipykernel)",
   "language": "python",
   "name": "python3"
  },
  "language_info": {
   "codemirror_mode": {
    "name": "ipython",
    "version": 3
   },
   "file_extension": ".py",
   "mimetype": "text/x-python",
   "name": "python",
   "nbconvert_exporter": "python",
   "pygments_lexer": "ipython3",
   "version": "3.10.0"
  }
 },
 "nbformat": 4,
 "nbformat_minor": 5
}
